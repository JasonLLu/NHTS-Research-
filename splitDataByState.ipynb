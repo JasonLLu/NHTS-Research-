{
 "cells": [
  {
   "cell_type": "code",
   "execution_count": 1,
   "metadata": {},
   "outputs": [],
   "source": [
    "import pandas as pd"
   ]
  },
  {
   "cell_type": "code",
   "execution_count": 26,
   "metadata": {},
   "outputs": [],
   "source": [
    "data = pd.read_csv(\"data_input_V1.csv\")"
   ]
  },
  {
   "cell_type": "code",
   "execution_count": 33,
   "metadata": {},
   "outputs": [
    {
     "name": "stdout",
     "output_type": "stream",
     "text": [
      "781831\n"
     ]
    }
   ],
   "source": [
    "print(len(data))"
   ]
  },
  {
   "cell_type": "code",
   "execution_count": 29,
   "metadata": {},
   "outputs": [],
   "source": [
    "states = data['HHSTATE'].unique().tolist()"
   ]
  },
  {
   "cell_type": "code",
   "execution_count": 30,
   "metadata": {},
   "outputs": [
    {
     "name": "stdout",
     "output_type": "stream",
     "text": [
      "['NC', 'WI', 'NY', 'MD', 'PA', 'CA', 'TX', 'AZ', 'WA', 'IL', 'KY', 'MT', 'IA', 'GA', 'ME', 'VA', 'SC', 'WV', 'FL', 'NH', 'MN', 'NE', 'AR', 'NJ', 'SD', 'NM', 'OK', 'MI', 'VT', 'ID', 'DE', 'MA', 'WY', 'CO', 'IN', 'AL', 'TN', 'HI', 'AK', 'OH', 'RI', 'LA', 'OR', 'KS', 'UT', 'MO', 'DC', 'NV', 'ND', 'MS', 'CT']\n"
     ]
    }
   ],
   "source": [
    "print(states)"
   ]
  },
  {
   "cell_type": "code",
   "execution_count": 31,
   "metadata": {},
   "outputs": [
    {
     "name": "stdout",
     "output_type": "stream",
     "text": [
      "155992\n"
     ]
    }
   ],
   "source": [
    "CA = data.loc[data.HHSTATE=='CA']\n",
    "print(len(CA))"
   ]
  },
  {
   "cell_type": "code",
   "execution_count": 34,
   "metadata": {},
   "outputs": [],
   "source": [
    "list_data = list(data.groupby(['HHSTATE']))"
   ]
  },
  {
   "cell_type": "code",
   "execution_count": 52,
   "metadata": {},
   "outputs": [
    {
     "name": "stdout",
     "output_type": "stream",
     "text": [
      "51\n"
     ]
    }
   ],
   "source": [
    "#list_data[i][j]\n",
    "#i iterates over the 51 states\n",
    "#j = 0 is the name of the state, j = 1 is the corresponding dataframe\n",
    "print(len(list_data))"
   ]
  },
  {
   "cell_type": "code",
   "execution_count": 54,
   "metadata": {},
   "outputs": [],
   "source": [
    "import os\n",
    "cwd = os.getcwd()"
   ]
  },
  {
   "cell_type": "code",
   "execution_count": 55,
   "metadata": {},
   "outputs": [
    {
     "name": "stdout",
     "output_type": "stream",
     "text": [
      "AK added\n",
      "AL added\n",
      "AR added\n",
      "AZ added\n",
      "CA added\n",
      "CO added\n",
      "CT added\n",
      "DC added\n",
      "DE added\n",
      "FL added\n",
      "GA added\n",
      "HI added\n",
      "IA added\n",
      "ID added\n",
      "IL added\n",
      "IN added\n",
      "KS added\n",
      "KY added\n",
      "LA added\n",
      "MA added\n",
      "MD added\n",
      "ME added\n",
      "MI added\n",
      "MN added\n",
      "MO added\n",
      "MS added\n",
      "MT added\n",
      "NC added\n",
      "ND added\n",
      "NE added\n",
      "NH added\n",
      "NJ added\n",
      "NM added\n",
      "NV added\n",
      "NY added\n",
      "OH added\n",
      "OK added\n",
      "OR added\n",
      "PA added\n",
      "RI added\n",
      "SC added\n",
      "SD added\n",
      "TN added\n",
      "TX added\n",
      "UT added\n",
      "VA added\n",
      "VT added\n",
      "WA added\n",
      "WI added\n",
      "WV added\n",
      "WY added\n"
     ]
    }
   ],
   "source": [
    "for i in range(0, len(list_data)):\n",
    "    state = list_data[i][0]\n",
    "    list_data[i][1].to_csv(cwd + \"/data_input_V1_\" + state + \".csv\", index = False)\n",
    "    print(state +  \" added\")"
   ]
  },
  {
   "cell_type": "code",
   "execution_count": null,
   "metadata": {},
   "outputs": [],
   "source": []
  }
 ],
 "metadata": {
  "kernelspec": {
   "display_name": "Python 3",
   "language": "python",
   "name": "python3"
  },
  "language_info": {
   "codemirror_mode": {
    "name": "ipython",
    "version": 3
   },
   "file_extension": ".py",
   "mimetype": "text/x-python",
   "name": "python",
   "nbconvert_exporter": "python",
   "pygments_lexer": "ipython3",
   "version": "3.6.8"
  }
 },
 "nbformat": 4,
 "nbformat_minor": 2
}
