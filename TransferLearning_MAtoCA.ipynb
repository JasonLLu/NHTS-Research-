{
 "cells": [
  {
   "cell_type": "code",
   "execution_count": 10,
   "metadata": {},
   "outputs": [],
   "source": [
    "import tensorflow as tf\n",
    "from tensorflow import feature_column\n",
    "from tensorflow.keras import layers\n",
    "#tf.enable_eager_execution()\n",
    "import pandas as pd\n",
    "from sklearn.model_selection import train_test_split\n",
    "from sklearn import preprocessing\n",
    "import numpy as np\n",
    "import pickle"
   ]
  },
  {
   "cell_type": "code",
   "execution_count": 11,
   "metadata": {},
   "outputs": [],
   "source": [
    "with open('encodedStates.pickle', 'rb') as handle:\n",
    "    data = pickle.load(handle)"
   ]
  },
  {
   "cell_type": "code",
   "execution_count": 12,
   "metadata": {},
   "outputs": [],
   "source": [
    "dataMA = data[\"MA\"]"
   ]
  },
  {
   "cell_type": "code",
   "execution_count": 13,
   "metadata": {},
   "outputs": [
    {
     "data": {
      "text/html": [
       "<div>\n",
       "<style scoped>\n",
       "    .dataframe tbody tr th:only-of-type {\n",
       "        vertical-align: middle;\n",
       "    }\n",
       "\n",
       "    .dataframe tbody tr th {\n",
       "        vertical-align: top;\n",
       "    }\n",
       "\n",
       "    .dataframe thead th {\n",
       "        text-align: right;\n",
       "    }\n",
       "</style>\n",
       "<table border=\"1\" class=\"dataframe\">\n",
       "  <thead>\n",
       "    <tr style=\"text-align: right;\">\n",
       "      <th></th>\n",
       "      <th>HHSIZE</th>\n",
       "      <th>HHVEHCNT</th>\n",
       "      <th>DRIVER_0</th>\n",
       "      <th>DRIVER_1</th>\n",
       "      <th>EDUC_1</th>\n",
       "      <th>EDUC_2</th>\n",
       "      <th>EDUC_3</th>\n",
       "      <th>EDUC_4</th>\n",
       "      <th>EDUC_5</th>\n",
       "      <th>URBANSIZE_1</th>\n",
       "      <th>URBANSIZE_2</th>\n",
       "      <th>URBANSIZE_3</th>\n",
       "      <th>URBANSIZE_4</th>\n",
       "      <th>URBANSIZE_5</th>\n",
       "      <th>URBANSIZE_6</th>\n",
       "      <th>URBRUR_1</th>\n",
       "      <th>URBRUR_2</th>\n",
       "    </tr>\n",
       "  </thead>\n",
       "  <tbody>\n",
       "    <tr>\n",
       "      <th>0</th>\n",
       "      <td>0.899427</td>\n",
       "      <td>1</td>\n",
       "      <td>0</td>\n",
       "      <td>1</td>\n",
       "      <td>0</td>\n",
       "      <td>0</td>\n",
       "      <td>0</td>\n",
       "      <td>1</td>\n",
       "      <td>0</td>\n",
       "      <td>0</td>\n",
       "      <td>0</td>\n",
       "      <td>0</td>\n",
       "      <td>0</td>\n",
       "      <td>1</td>\n",
       "      <td>0</td>\n",
       "      <td>1</td>\n",
       "      <td>0</td>\n",
       "    </tr>\n",
       "    <tr>\n",
       "      <th>1</th>\n",
       "      <td>0.899427</td>\n",
       "      <td>1</td>\n",
       "      <td>0</td>\n",
       "      <td>1</td>\n",
       "      <td>0</td>\n",
       "      <td>0</td>\n",
       "      <td>0</td>\n",
       "      <td>1</td>\n",
       "      <td>0</td>\n",
       "      <td>0</td>\n",
       "      <td>0</td>\n",
       "      <td>0</td>\n",
       "      <td>0</td>\n",
       "      <td>1</td>\n",
       "      <td>0</td>\n",
       "      <td>1</td>\n",
       "      <td>0</td>\n",
       "    </tr>\n",
       "    <tr>\n",
       "      <th>2</th>\n",
       "      <td>0.899427</td>\n",
       "      <td>1</td>\n",
       "      <td>0</td>\n",
       "      <td>1</td>\n",
       "      <td>0</td>\n",
       "      <td>0</td>\n",
       "      <td>0</td>\n",
       "      <td>1</td>\n",
       "      <td>0</td>\n",
       "      <td>0</td>\n",
       "      <td>0</td>\n",
       "      <td>0</td>\n",
       "      <td>0</td>\n",
       "      <td>1</td>\n",
       "      <td>0</td>\n",
       "      <td>1</td>\n",
       "      <td>0</td>\n",
       "    </tr>\n",
       "    <tr>\n",
       "      <th>3</th>\n",
       "      <td>0.899427</td>\n",
       "      <td>1</td>\n",
       "      <td>0</td>\n",
       "      <td>1</td>\n",
       "      <td>0</td>\n",
       "      <td>0</td>\n",
       "      <td>0</td>\n",
       "      <td>1</td>\n",
       "      <td>0</td>\n",
       "      <td>0</td>\n",
       "      <td>0</td>\n",
       "      <td>0</td>\n",
       "      <td>0</td>\n",
       "      <td>1</td>\n",
       "      <td>0</td>\n",
       "      <td>1</td>\n",
       "      <td>0</td>\n",
       "    </tr>\n",
       "    <tr>\n",
       "      <th>4</th>\n",
       "      <td>1.798855</td>\n",
       "      <td>1</td>\n",
       "      <td>0</td>\n",
       "      <td>1</td>\n",
       "      <td>0</td>\n",
       "      <td>0</td>\n",
       "      <td>1</td>\n",
       "      <td>0</td>\n",
       "      <td>0</td>\n",
       "      <td>0</td>\n",
       "      <td>0</td>\n",
       "      <td>0</td>\n",
       "      <td>0</td>\n",
       "      <td>1</td>\n",
       "      <td>0</td>\n",
       "      <td>1</td>\n",
       "      <td>0</td>\n",
       "    </tr>\n",
       "  </tbody>\n",
       "</table>\n",
       "</div>"
      ],
      "text/plain": [
       "     HHSIZE  HHVEHCNT  DRIVER_0  DRIVER_1  EDUC_1  EDUC_2  EDUC_3  EDUC_4  \\\n",
       "0  0.899427         1         0         1       0       0       0       1   \n",
       "1  0.899427         1         0         1       0       0       0       1   \n",
       "2  0.899427         1         0         1       0       0       0       1   \n",
       "3  0.899427         1         0         1       0       0       0       1   \n",
       "4  1.798855         1         0         1       0       0       1       0   \n",
       "\n",
       "   EDUC_5  URBANSIZE_1  URBANSIZE_2  URBANSIZE_3  URBANSIZE_4  URBANSIZE_5  \\\n",
       "0       0            0            0            0            0            1   \n",
       "1       0            0            0            0            0            1   \n",
       "2       0            0            0            0            0            1   \n",
       "3       0            0            0            0            0            1   \n",
       "4       0            0            0            0            0            1   \n",
       "\n",
       "   URBANSIZE_6  URBRUR_1  URBRUR_2  \n",
       "0            0         1         0  \n",
       "1            0         1         0  \n",
       "2            0         1         0  \n",
       "3            0         1         0  \n",
       "4            0         1         0  "
      ]
     },
     "execution_count": 13,
     "metadata": {},
     "output_type": "execute_result"
    }
   ],
   "source": [
    "dataMA.head()"
   ]
  },
  {
   "cell_type": "code",
   "execution_count": 14,
   "metadata": {},
   "outputs": [],
   "source": [
    "def df_to_np(dataframe,shuffle=True,batch_size=32,target=\"HHVEHCNT\"):\n",
    "    dataframe = dataframe.copy()\n",
    "    labels = dataframe.pop(target)\n",
    "    return dataframe.values, labels.values"
   ]
  },
  {
   "cell_type": "code",
   "execution_count": 47,
   "metadata": {},
   "outputs": [
    {
     "name": "stdout",
     "output_type": "stream",
     "text": [
      "(3211, 16)\n",
      "(3211,)\n"
     ]
    }
   ],
   "source": [
    "train_X_MA, train_y_MA = df_to_np(dataMA)\n",
    "print(train_X.shape)\n",
    "print(train_y.shape)"
   ]
  },
  {
   "cell_type": "code",
   "execution_count": 48,
   "metadata": {},
   "outputs": [
    {
     "name": "stdout",
     "output_type": "stream",
     "text": [
      "Train on 2568 samples, validate on 643 samples\n",
      "Epoch 1/5\n",
      "2568/2568 [==============================] - 1s 291us/sample - loss: 1.0854 - accuracy: 0.5397 - val_loss: 1.0941 - val_accuracy: 0.5894\n",
      "Epoch 2/5\n",
      "2568/2568 [==============================] - 0s 64us/sample - loss: 0.8769 - accuracy: 0.6495 - val_loss: 1.0607 - val_accuracy: 0.5677\n",
      "Epoch 3/5\n",
      "2568/2568 [==============================] - 0s 48us/sample - loss: 0.8081 - accuracy: 0.6959 - val_loss: 1.0570 - val_accuracy: 0.5723\n",
      "Epoch 4/5\n",
      "2568/2568 [==============================] - 0s 49us/sample - loss: 0.7737 - accuracy: 0.6982 - val_loss: 1.1070 - val_accuracy: 0.5645\n",
      "Epoch 5/5\n",
      "2568/2568 [==============================] - 0s 63us/sample - loss: 0.7542 - accuracy: 0.7017 - val_loss: 1.1251 - val_accuracy: 0.5334\n"
     ]
    },
    {
     "data": {
      "text/plain": [
       "<tensorflow.python.keras.callbacks.History at 0x1a44e80588>"
      ]
     },
     "execution_count": 48,
     "metadata": {},
     "output_type": "execute_result"
    }
   ],
   "source": [
    "modelMA = tf.keras.Sequential([\n",
    "  tf.keras.layers.Dense(128,activation=\"relu\"),\n",
    "  #tf.keras.layers.Dropout(0.5),\n",
    "  tf.keras.layers.Dense(128),\n",
    "  #tf.keras.layers.Dropout(0.5),\n",
    "  tf.keras.layers.Dense(128),\n",
    "  #tf.keras.layers.Dropout(0.5),\n",
    "  tf.keras.layers.Dense(128),\n",
    "  #tf.keras.layers.Dropout(0.5),\n",
    "  tf.keras.layers.Dense(64,activation=\"relu\"),\n",
    "  tf.keras.layers.Dense(4,activation=\"softmax\")\n",
    "])\n",
    "\n",
    "modelMA.compile(optimizer='adam',\n",
    "              loss='sparse_categorical_crossentropy',\n",
    "              metrics=['accuracy'])\n",
    "\n",
    "modelMA.fit(x=train_X_MA, y = train_y_MA,epochs=5, batch_size = 100, validation_split=0.2, shuffle=True)"
   ]
  },
  {
   "cell_type": "code",
   "execution_count": 63,
   "metadata": {},
   "outputs": [
    {
     "data": {
      "text/plain": [
       "[array([[-0.01743785,  0.15146367, -0.09180181, ...,  0.00345619,\n",
       "         -0.10551102, -0.00605135],\n",
       "        [ 0.14774986, -0.19362767,  0.16640139, ...,  0.01846397,\n",
       "          0.20246075,  0.1673474 ],\n",
       "        [-0.24041627, -0.07670439, -0.06856323, ...,  0.03091147,\n",
       "         -0.11509847,  0.07246365],\n",
       "        ...,\n",
       "        [-0.10101233,  0.08829248,  0.09260352, ...,  0.04846853,\n",
       "          0.08490252,  0.11700392],\n",
       "        [-0.1294384 , -0.11843885, -0.16611134, ...,  0.10726339,\n",
       "          0.02807734, -0.23838581],\n",
       "        [-0.19377016, -0.08327387,  0.01341933, ...,  0.02931656,\n",
       "         -0.1288538 ,  0.02309678]], dtype=float32),\n",
       " array([ 0.03301049, -0.00846896, -0.00715381,  0.        ,  0.00381368,\n",
       "        -0.00182741, -0.01658083, -0.01100198, -0.01906062, -0.01750291,\n",
       "         0.00036091, -0.0066485 ,  0.        , -0.00749844, -0.00858179,\n",
       "         0.01194169,  0.018863  ,  0.01329608,  0.0113377 ,  0.00820245,\n",
       "         0.00918575, -0.01912832, -0.01051839,  0.01784003, -0.00964512,\n",
       "        -0.0125169 ,  0.        ,  0.01741496,  0.00599146, -0.00143905,\n",
       "         0.00686844,  0.00765026,  0.0059334 , -0.00454675,  0.00019292,\n",
       "        -0.01862761,  0.0049809 ,  0.00176141, -0.01262022, -0.00826127,\n",
       "         0.00715817, -0.01004511,  0.00092073, -0.00463495,  0.04614624,\n",
       "         0.00029956,  0.03303079,  0.02134587, -0.0102689 , -0.0075083 ,\n",
       "        -0.00088964,  0.00683218,  0.00396316,  0.02972906,  0.00582642,\n",
       "        -0.00042709, -0.00287238,  0.01355949,  0.06022671,  0.0035428 ,\n",
       "         0.00690121,  0.00629138, -0.00327725, -0.01567285, -0.019748  ,\n",
       "         0.02022044,  0.01246156,  0.03324971,  0.01245988,  0.02062501,\n",
       "         0.00826208,  0.03922713, -0.00932933, -0.01863637,  0.01898859,\n",
       "         0.0342944 ,  0.00851892,  0.01734535,  0.01687803,  0.00664042,\n",
       "        -0.00607604, -0.00933155,  0.00247914,  0.00701153, -0.01572552,\n",
       "        -0.01889346,  0.04924623, -0.00302029, -0.00305151, -0.01116882,\n",
       "        -0.0056425 ,  0.0097107 , -0.00870452, -0.00053105,  0.00046107,\n",
       "         0.00740896, -0.00382685, -0.00635882,  0.01724614,  0.04412258,\n",
       "         0.00031191,  0.00116387, -0.00305035,  0.00604666, -0.00830549,\n",
       "         0.00825684, -0.00761162, -0.0042505 ,  0.01225358,  0.02136885,\n",
       "         0.03793138, -0.0115532 , -0.00139675,  0.        ,  0.03387574,\n",
       "        -0.01391212,  0.        , -0.0054433 ,  0.0012202 ,  0.00173839,\n",
       "         0.00451149, -0.00791111,  0.01890217,  0.00464921,  0.        ,\n",
       "        -0.01846937,  0.03766737,  0.01910222], dtype=float32)]"
      ]
     },
     "execution_count": 63,
     "metadata": {},
     "output_type": "execute_result"
    }
   ],
   "source": [
    "weightsMA_1 = modelMA.layers[0].get_weights()\n",
    "weightsMA_1"
   ]
  },
  {
   "cell_type": "code",
   "execution_count": 53,
   "metadata": {},
   "outputs": [
    {
     "data": {
      "text/html": [
       "<div>\n",
       "<style scoped>\n",
       "    .dataframe tbody tr th:only-of-type {\n",
       "        vertical-align: middle;\n",
       "    }\n",
       "\n",
       "    .dataframe tbody tr th {\n",
       "        vertical-align: top;\n",
       "    }\n",
       "\n",
       "    .dataframe thead th {\n",
       "        text-align: right;\n",
       "    }\n",
       "</style>\n",
       "<table border=\"1\" class=\"dataframe\">\n",
       "  <thead>\n",
       "    <tr style=\"text-align: right;\">\n",
       "      <th></th>\n",
       "      <th>HHSIZE</th>\n",
       "      <th>HHVEHCNT</th>\n",
       "      <th>DRIVER_0</th>\n",
       "      <th>DRIVER_1</th>\n",
       "      <th>EDUC_1</th>\n",
       "      <th>EDUC_2</th>\n",
       "      <th>EDUC_3</th>\n",
       "      <th>EDUC_4</th>\n",
       "      <th>EDUC_5</th>\n",
       "      <th>URBANSIZE_1</th>\n",
       "      <th>URBANSIZE_2</th>\n",
       "      <th>URBANSIZE_3</th>\n",
       "      <th>URBANSIZE_4</th>\n",
       "      <th>URBANSIZE_5</th>\n",
       "      <th>URBANSIZE_6</th>\n",
       "      <th>URBRUR_1</th>\n",
       "      <th>URBRUR_2</th>\n",
       "    </tr>\n",
       "  </thead>\n",
       "  <tbody>\n",
       "    <tr>\n",
       "      <th>0</th>\n",
       "      <td>1.533065</td>\n",
       "      <td>2</td>\n",
       "      <td>0</td>\n",
       "      <td>1</td>\n",
       "      <td>0</td>\n",
       "      <td>0</td>\n",
       "      <td>0</td>\n",
       "      <td>0</td>\n",
       "      <td>1</td>\n",
       "      <td>0</td>\n",
       "      <td>1</td>\n",
       "      <td>0</td>\n",
       "      <td>0</td>\n",
       "      <td>0</td>\n",
       "      <td>0</td>\n",
       "      <td>1</td>\n",
       "      <td>0</td>\n",
       "    </tr>\n",
       "    <tr>\n",
       "      <th>1</th>\n",
       "      <td>1.533065</td>\n",
       "      <td>2</td>\n",
       "      <td>0</td>\n",
       "      <td>1</td>\n",
       "      <td>0</td>\n",
       "      <td>0</td>\n",
       "      <td>0</td>\n",
       "      <td>0</td>\n",
       "      <td>1</td>\n",
       "      <td>0</td>\n",
       "      <td>1</td>\n",
       "      <td>0</td>\n",
       "      <td>0</td>\n",
       "      <td>0</td>\n",
       "      <td>0</td>\n",
       "      <td>1</td>\n",
       "      <td>0</td>\n",
       "    </tr>\n",
       "    <tr>\n",
       "      <th>2</th>\n",
       "      <td>1.533065</td>\n",
       "      <td>2</td>\n",
       "      <td>0</td>\n",
       "      <td>1</td>\n",
       "      <td>1</td>\n",
       "      <td>0</td>\n",
       "      <td>0</td>\n",
       "      <td>0</td>\n",
       "      <td>0</td>\n",
       "      <td>0</td>\n",
       "      <td>1</td>\n",
       "      <td>0</td>\n",
       "      <td>0</td>\n",
       "      <td>0</td>\n",
       "      <td>0</td>\n",
       "      <td>1</td>\n",
       "      <td>0</td>\n",
       "    </tr>\n",
       "    <tr>\n",
       "      <th>3</th>\n",
       "      <td>1.533065</td>\n",
       "      <td>2</td>\n",
       "      <td>0</td>\n",
       "      <td>1</td>\n",
       "      <td>1</td>\n",
       "      <td>0</td>\n",
       "      <td>0</td>\n",
       "      <td>0</td>\n",
       "      <td>0</td>\n",
       "      <td>0</td>\n",
       "      <td>1</td>\n",
       "      <td>0</td>\n",
       "      <td>0</td>\n",
       "      <td>0</td>\n",
       "      <td>0</td>\n",
       "      <td>1</td>\n",
       "      <td>0</td>\n",
       "    </tr>\n",
       "    <tr>\n",
       "      <th>4</th>\n",
       "      <td>1.533065</td>\n",
       "      <td>2</td>\n",
       "      <td>0</td>\n",
       "      <td>1</td>\n",
       "      <td>1</td>\n",
       "      <td>0</td>\n",
       "      <td>0</td>\n",
       "      <td>0</td>\n",
       "      <td>0</td>\n",
       "      <td>0</td>\n",
       "      <td>1</td>\n",
       "      <td>0</td>\n",
       "      <td>0</td>\n",
       "      <td>0</td>\n",
       "      <td>0</td>\n",
       "      <td>1</td>\n",
       "      <td>0</td>\n",
       "    </tr>\n",
       "  </tbody>\n",
       "</table>\n",
       "</div>"
      ],
      "text/plain": [
       "     HHSIZE  HHVEHCNT  DRIVER_0  DRIVER_1  EDUC_1  EDUC_2  EDUC_3  EDUC_4  \\\n",
       "0  1.533065         2         0         1       0       0       0       0   \n",
       "1  1.533065         2         0         1       0       0       0       0   \n",
       "2  1.533065         2         0         1       1       0       0       0   \n",
       "3  1.533065         2         0         1       1       0       0       0   \n",
       "4  1.533065         2         0         1       1       0       0       0   \n",
       "\n",
       "   EDUC_5  URBANSIZE_1  URBANSIZE_2  URBANSIZE_3  URBANSIZE_4  URBANSIZE_5  \\\n",
       "0       1            0            1            0            0            0   \n",
       "1       1            0            1            0            0            0   \n",
       "2       0            0            1            0            0            0   \n",
       "3       0            0            1            0            0            0   \n",
       "4       0            0            1            0            0            0   \n",
       "\n",
       "   URBANSIZE_6  URBRUR_1  URBRUR_2  \n",
       "0            0         1         0  \n",
       "1            0         1         0  \n",
       "2            0         1         0  \n",
       "3            0         1         0  \n",
       "4            0         1         0  "
      ]
     },
     "execution_count": 53,
     "metadata": {},
     "output_type": "execute_result"
    }
   ],
   "source": [
    "dataCA = data[\"CA\"]\n",
    "dataCA.head()"
   ]
  },
  {
   "cell_type": "code",
   "execution_count": 54,
   "metadata": {},
   "outputs": [
    {
     "name": "stdout",
     "output_type": "stream",
     "text": [
      "(155992, 16)\n",
      "(155992,)\n"
     ]
    }
   ],
   "source": [
    "train_X_CA, train_y_CA = df_to_np(dataCA)\n",
    "print(train_X_CA.shape)\n",
    "print(train_y_CA.shape)"
   ]
  },
  {
   "cell_type": "code",
   "execution_count": 73,
   "metadata": {},
   "outputs": [
    {
     "name": "stdout",
     "output_type": "stream",
     "text": [
      "Train on 124793 samples, validate on 31199 samples\n",
      "Epoch 1/5\n",
      "124793/124793 [==============================] - 2s 14us/sample - loss: 0.9515 - accuracy: 0.5599 - val_loss: 0.9242 - val_accuracy: 0.5827\n",
      "Epoch 2/5\n",
      "124793/124793 [==============================] - 1s 10us/sample - loss: 0.9123 - accuracy: 0.5866 - val_loss: 0.9260 - val_accuracy: 0.5801\n",
      "Epoch 3/5\n",
      "124793/124793 [==============================] - 1s 10us/sample - loss: 0.9101 - accuracy: 0.5869 - val_loss: 0.9253 - val_accuracy: 0.5887\n",
      "Epoch 4/5\n",
      "124793/124793 [==============================] - 1s 10us/sample - loss: 0.9078 - accuracy: 0.5885 - val_loss: 0.9275 - val_accuracy: 0.5794\n",
      "Epoch 5/5\n",
      "124793/124793 [==============================] - 1s 10us/sample - loss: 0.9054 - accuracy: 0.5913 - val_loss: 0.9270 - val_accuracy: 0.5788\n"
     ]
    },
    {
     "data": {
      "text/plain": [
       "<tensorflow.python.keras.callbacks.History at 0x1a527f3ba8>"
      ]
     },
     "execution_count": 73,
     "metadata": {},
     "output_type": "execute_result"
    }
   ],
   "source": [
    "modelCA_benchmark = tf.keras.Sequential([\n",
    "  tf.keras.layers.Dense(128,activation=\"relu\"), \n",
    "  #tf.keras.layers.Dropout(0.5),\n",
    "  tf.keras.layers.Dense(128),\n",
    "  #tf.keras.layers.Dropout(0.5),\n",
    "  tf.keras.layers.Dense(128),\n",
    "  #tf.keras.layers.Dropout(0.5),\n",
    "  tf.keras.layers.Dense(128),\n",
    "  #tf.keras.layers.Dropout(0.5),\n",
    "  tf.keras.layers.Dense(64,activation=\"relu\"),\n",
    "  tf.keras.layers.Dense(4,activation=\"softmax\")\n",
    "])\n",
    "\n",
    "modelCA_benchmark.compile(optimizer='adam',\n",
    "              loss='sparse_categorical_crossentropy',\n",
    "              metrics=['accuracy'])\n",
    "\n",
    "modelCA_benchmark.fit(x=train_X_CA, y = train_y_CA,epochs=5, batch_size = 1000, validation_split=0.2, shuffle=True)"
   ]
  },
  {
   "cell_type": "code",
   "execution_count": 74,
   "metadata": {},
   "outputs": [
    {
     "data": {
      "text/plain": [
       "array([[ 0.08800914,  0.0604397 ,  0.15293552, ..., -0.01185746,\n",
       "         0.17021427, -0.04332333],\n",
       "       [-0.20824927, -0.0432914 ,  0.13712479, ...,  0.02268448,\n",
       "        -0.14053394,  0.22549394],\n",
       "       [ 0.12272537,  0.11387481,  0.10559276, ..., -0.18930861,\n",
       "        -0.02590599, -0.09913554],\n",
       "       ...,\n",
       "       [ 0.10410998,  0.17682415, -0.05371061, ..., -0.03704657,\n",
       "        -0.1258989 ,  0.12777427],\n",
       "       [-0.01188823,  0.06813283,  0.07198166, ..., -0.11298712,\n",
       "        -0.04864229, -0.13337116],\n",
       "       [-0.22033869, -0.17739964,  0.08009589, ...,  0.15416807,\n",
       "         0.07262819,  0.17758518]], dtype=float32)"
      ]
     },
     "execution_count": 74,
     "metadata": {},
     "output_type": "execute_result"
    }
   ],
   "source": [
    "modelCA_benchmark.layers[0].get_weights()[0]"
   ]
  },
  {
   "cell_type": "code",
   "execution_count": 75,
   "metadata": {},
   "outputs": [
    {
     "name": "stdout",
     "output_type": "stream",
     "text": [
      "Train on 124793 samples, validate on 31199 samples\n",
      "Epoch 1/5\n",
      "124793/124793 [==============================] - 2s 13us/sample - loss: 0.9568 - accuracy: 0.5603 - val_loss: 0.9291 - val_accuracy: 0.5756\n",
      "Epoch 2/5\n",
      "124793/124793 [==============================] - 1s 9us/sample - loss: 0.9157 - accuracy: 0.5836 - val_loss: 0.9295 - val_accuracy: 0.5872\n",
      "Epoch 3/5\n",
      "124793/124793 [==============================] - 1s 9us/sample - loss: 0.9118 - accuracy: 0.5868 - val_loss: 0.9365 - val_accuracy: 0.5794\n",
      "Epoch 4/5\n",
      "124793/124793 [==============================] - 1s 9us/sample - loss: 0.9105 - accuracy: 0.5884 - val_loss: 0.9301 - val_accuracy: 0.5775\n",
      "Epoch 5/5\n",
      "124793/124793 [==============================] - 1s 9us/sample - loss: 0.9090 - accuracy: 0.5902 - val_loss: 0.9293 - val_accuracy: 0.5779\n"
     ]
    },
    {
     "data": {
      "text/plain": [
       "<tensorflow.python.keras.callbacks.History at 0x1a544e9d30>"
      ]
     },
     "execution_count": 75,
     "metadata": {},
     "output_type": "execute_result"
    }
   ],
   "source": [
    "modelCA_frozenTransfer = tf.keras.Sequential([\n",
    "  tf.keras.layers.Dense(128,activation=\"relu\", weights = weightsMA_1, trainable = False), \n",
    "  #tf.keras.layers.Dropout(0.5),\n",
    "  tf.keras.layers.Dense(128),\n",
    "  #tf.keras.layers.Dropout(0.5),\n",
    "  tf.keras.layers.Dense(128),\n",
    "  #tf.keras.layers.Dropout(0.5),\n",
    "  tf.keras.layers.Dense(128),\n",
    "  #tf.keras.layers.Dropout(0.5),\n",
    "  tf.keras.layers.Dense(64,activation=\"relu\"),\n",
    "  tf.keras.layers.Dense(4,activation=\"softmax\")\n",
    "])\n",
    "\n",
    "modelCA_frozenTransfer.compile(optimizer='adam',\n",
    "              loss='sparse_categorical_crossentropy',\n",
    "              metrics=['accuracy'])\n",
    "\n",
    "modelCA_frozenTransfer.fit(x=train_X_CA, y = train_y_CA,epochs=5, batch_size = 1000, validation_split=0.2, shuffle=True)"
   ]
  },
  {
   "cell_type": "code",
   "execution_count": 76,
   "metadata": {},
   "outputs": [
    {
     "data": {
      "text/plain": [
       "[array([[-0.01743785,  0.15146367, -0.09180181, ...,  0.00345619,\n",
       "         -0.10551102, -0.00605135],\n",
       "        [ 0.14774986, -0.19362767,  0.16640139, ...,  0.01846397,\n",
       "          0.20246075,  0.1673474 ],\n",
       "        [-0.24041627, -0.07670439, -0.06856323, ...,  0.03091147,\n",
       "         -0.11509847,  0.07246365],\n",
       "        ...,\n",
       "        [-0.10101233,  0.08829248,  0.09260352, ...,  0.04846853,\n",
       "          0.08490252,  0.11700392],\n",
       "        [-0.1294384 , -0.11843885, -0.16611134, ...,  0.10726339,\n",
       "          0.02807734, -0.23838581],\n",
       "        [-0.19377016, -0.08327387,  0.01341933, ...,  0.02931656,\n",
       "         -0.1288538 ,  0.02309678]], dtype=float32),\n",
       " array([ 0.03301049, -0.00846896, -0.00715381,  0.        ,  0.00381368,\n",
       "        -0.00182741, -0.01658083, -0.01100198, -0.01906062, -0.01750291,\n",
       "         0.00036091, -0.0066485 ,  0.        , -0.00749844, -0.00858179,\n",
       "         0.01194169,  0.018863  ,  0.01329608,  0.0113377 ,  0.00820245,\n",
       "         0.00918575, -0.01912832, -0.01051839,  0.01784003, -0.00964512,\n",
       "        -0.0125169 ,  0.        ,  0.01741496,  0.00599146, -0.00143905,\n",
       "         0.00686844,  0.00765026,  0.0059334 , -0.00454675,  0.00019292,\n",
       "        -0.01862761,  0.0049809 ,  0.00176141, -0.01262022, -0.00826127,\n",
       "         0.00715817, -0.01004511,  0.00092073, -0.00463495,  0.04614624,\n",
       "         0.00029956,  0.03303079,  0.02134587, -0.0102689 , -0.0075083 ,\n",
       "        -0.00088964,  0.00683218,  0.00396316,  0.02972906,  0.00582642,\n",
       "        -0.00042709, -0.00287238,  0.01355949,  0.06022671,  0.0035428 ,\n",
       "         0.00690121,  0.00629138, -0.00327725, -0.01567285, -0.019748  ,\n",
       "         0.02022044,  0.01246156,  0.03324971,  0.01245988,  0.02062501,\n",
       "         0.00826208,  0.03922713, -0.00932933, -0.01863637,  0.01898859,\n",
       "         0.0342944 ,  0.00851892,  0.01734535,  0.01687803,  0.00664042,\n",
       "        -0.00607604, -0.00933155,  0.00247914,  0.00701153, -0.01572552,\n",
       "        -0.01889346,  0.04924623, -0.00302029, -0.00305151, -0.01116882,\n",
       "        -0.0056425 ,  0.0097107 , -0.00870452, -0.00053105,  0.00046107,\n",
       "         0.00740896, -0.00382685, -0.00635882,  0.01724614,  0.04412258,\n",
       "         0.00031191,  0.00116387, -0.00305035,  0.00604666, -0.00830549,\n",
       "         0.00825684, -0.00761162, -0.0042505 ,  0.01225358,  0.02136885,\n",
       "         0.03793138, -0.0115532 , -0.00139675,  0.        ,  0.03387574,\n",
       "        -0.01391212,  0.        , -0.0054433 ,  0.0012202 ,  0.00173839,\n",
       "         0.00451149, -0.00791111,  0.01890217,  0.00464921,  0.        ,\n",
       "        -0.01846937,  0.03766737,  0.01910222], dtype=float32)]"
      ]
     },
     "execution_count": 76,
     "metadata": {},
     "output_type": "execute_result"
    }
   ],
   "source": [
    "modelCA_frozenTransfer.layers[0].get_weights()"
   ]
  },
  {
   "cell_type": "code",
   "execution_count": 77,
   "metadata": {},
   "outputs": [
    {
     "name": "stdout",
     "output_type": "stream",
     "text": [
      "Train on 124793 samples, validate on 31199 samples\n",
      "Epoch 1/5\n",
      "124793/124793 [==============================] - 2s 17us/sample - loss: 0.9573 - accuracy: 0.5638 - val_loss: 0.9264 - val_accuracy: 0.5825\n",
      "Epoch 2/5\n",
      "124793/124793 [==============================] - 1s 11us/sample - loss: 0.9141 - accuracy: 0.5866 - val_loss: 0.9285 - val_accuracy: 0.5777\n",
      "Epoch 3/5\n",
      "124793/124793 [==============================] - 1s 11us/sample - loss: 0.9099 - accuracy: 0.5876 - val_loss: 0.9209 - val_accuracy: 0.5877\n",
      "Epoch 4/5\n",
      "124793/124793 [==============================] - 1s 10us/sample - loss: 0.9080 - accuracy: 0.5884 - val_loss: 0.9267 - val_accuracy: 0.5798\n",
      "Epoch 5/5\n",
      "124793/124793 [==============================] - 1s 12us/sample - loss: 0.9074 - accuracy: 0.5901 - val_loss: 0.9257 - val_accuracy: 0.5882\n"
     ]
    },
    {
     "data": {
      "text/plain": [
       "<tensorflow.python.keras.callbacks.History at 0x1a561f14e0>"
      ]
     },
     "execution_count": 77,
     "metadata": {},
     "output_type": "execute_result"
    }
   ],
   "source": [
    "modelCA_unfrozenTransfer = tf.keras.Sequential([\n",
    "  tf.keras.layers.Dense(128,activation=\"relu\", weights = weightsMA_1, trainable = True), \n",
    "  #tf.keras.layers.Dropout(0.5),\n",
    "  tf.keras.layers.Dense(128),\n",
    "  #tf.keras.layers.Dropout(0.5),\n",
    "  tf.keras.layers.Dense(128),\n",
    "  #tf.keras.layers.Dropout(0.5),\n",
    "  tf.keras.layers.Dense(128),\n",
    "  #tf.keras.layers.Dropout(0.5),\n",
    "  tf.keras.layers.Dense(64,activation=\"relu\"),\n",
    "  tf.keras.layers.Dense(4,activation=\"softmax\")\n",
    "])\n",
    "\n",
    "modelCA_unfrozenTransfer.compile(optimizer='adam',\n",
    "              loss='sparse_categorical_crossentropy',\n",
    "              metrics=['accuracy'])\n",
    "\n",
    "modelCA_unfrozenTransfer.fit(x=train_X_CA, y = train_y_CA,epochs=5, batch_size = 1000, validation_split=0.2, shuffle=True)"
   ]
  },
  {
   "cell_type": "code",
   "execution_count": 78,
   "metadata": {},
   "outputs": [
    {
     "data": {
      "text/plain": [
       "[array([[-0.014664  ,  0.11785861, -0.15513219, ..., -0.00676504,\n",
       "         -0.1251385 ,  0.01579178],\n",
       "        [ 0.15762892, -0.2997449 ,  0.17039885, ..., -0.02325984,\n",
       "          0.23792791,  0.154293  ],\n",
       "        [-0.19500624, -0.09667541, -0.03705984, ...,  0.01451831,\n",
       "         -0.1241397 ,  0.07681436],\n",
       "        ...,\n",
       "        [-0.10534956,  0.05610569,  0.10968623, ...,  0.01054381,\n",
       "          0.0457502 ,  0.10684872],\n",
       "        [-0.100294  , -0.15241517, -0.1270254 , ...,  0.08682017,\n",
       "          0.05101245, -0.24085735],\n",
       "        [-0.29831374, -0.08595566,  0.04155878, ...,  0.00787597,\n",
       "         -0.11096412,  0.02886299]], dtype=float32),\n",
       " array([ 0.05576064, -0.03816479,  0.01693246,  0.02359311, -0.00066257,\n",
       "        -0.00416742, -0.03645224, -0.02732079, -0.03220745, -0.0438571 ,\n",
       "        -0.01324651, -0.01150343,  0.        , -0.02364383, -0.01629846,\n",
       "         0.02499631,  0.02052838, -0.00944357,  0.00102755,  0.00489909,\n",
       "        -0.00896177, -0.0365325 ,  0.00460326,  0.01872969, -0.00832079,\n",
       "        -0.00146001,  0.        ,  0.04317737,  0.00220535,  0.00483502,\n",
       "         0.01363135, -0.00600448, -0.00259993, -0.0219698 ,  0.04614368,\n",
       "        -0.01435786, -0.00112186, -0.01987283, -0.0259059 , -0.02087072,\n",
       "         0.01597491, -0.0255565 ,  0.01218132, -0.02525139,  0.05575316,\n",
       "         0.00094809,  0.05895839,  0.0279483 , -0.02056099,  0.00215735,\n",
       "         0.00387527,  0.00258391, -0.01092883,  0.03537072, -0.00097668,\n",
       "        -0.01800144, -0.00142466,  0.00323363,  0.07183161,  0.03222297,\n",
       "        -0.00050637, -0.00791404,  0.01552758, -0.03657289, -0.01217026,\n",
       "         0.02327239,  0.01384465,  0.05807476,  0.010183  ,  0.02187847,\n",
       "         0.01959356,  0.02230476, -0.00344129, -0.03164253,  0.03010985,\n",
       "         0.04085713, -0.03932603,  0.02897838,  0.01456403,  0.00872299,\n",
       "        -0.03160295, -0.00581795, -0.0088021 ,  0.00157388, -0.02894321,\n",
       "        -0.01901273,  0.05833469, -0.01528348, -0.00476559, -0.04853247,\n",
       "        -0.0393788 ,  0.01779097, -0.00280821, -0.02463049, -0.01336938,\n",
       "        -0.00240834, -0.04043588, -0.01454329,  0.04952847,  0.04282905,\n",
       "         0.01339609, -0.02075369, -0.02251643, -0.00278775, -0.0375979 ,\n",
       "        -0.01525582, -0.03272614, -0.00545854,  0.01584294,  0.02658611,\n",
       "         0.07639788, -0.03411551,  0.01027789,  0.        ,  0.02811911,\n",
       "        -0.0305922 ,  0.00362787,  0.05769799, -0.0074548 ,  0.00506382,\n",
       "         0.03462809,  0.00251272,  0.03184394,  0.00626157,  0.        ,\n",
       "        -0.04062663,  0.06032217,  0.02055338], dtype=float32)]"
      ]
     },
     "execution_count": 78,
     "metadata": {},
     "output_type": "execute_result"
    }
   ],
   "source": [
    "modelCA_unfrozenTransfer.layers[0].get_weights()"
   ]
  },
  {
   "cell_type": "code",
   "execution_count": null,
   "metadata": {},
   "outputs": [],
   "source": []
  }
 ],
 "metadata": {
  "kernelspec": {
   "display_name": "Python 3",
   "language": "python",
   "name": "python3"
  },
  "language_info": {
   "codemirror_mode": {
    "name": "ipython",
    "version": 3
   },
   "file_extension": ".py",
   "mimetype": "text/x-python",
   "name": "python",
   "nbconvert_exporter": "python",
   "pygments_lexer": "ipython3",
   "version": "3.6.8"
  }
 },
 "nbformat": 4,
 "nbformat_minor": 2
}
