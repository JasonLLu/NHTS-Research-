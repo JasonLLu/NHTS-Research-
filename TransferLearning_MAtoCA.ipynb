{
 "cells": [
  {
   "cell_type": "code",
   "execution_count": 1,
   "metadata": {},
   "outputs": [],
   "source": [
    "import tensorflow as tf\n",
    "from tensorflow import feature_column\n",
    "from tensorflow.keras import layers\n",
    "#tf.enable_eager_execution()\n",
    "import pandas as pd\n",
    "from sklearn.model_selection import train_test_split\n",
    "from sklearn import preprocessing\n",
    "import numpy as np\n",
    "import pickle"
   ]
  },
  {
   "cell_type": "code",
   "execution_count": 2,
   "metadata": {},
   "outputs": [],
   "source": [
    "with open('encodedStates.pickle', 'rb') as handle:\n",
    "    data = pickle.load(handle)"
   ]
  },
  {
   "cell_type": "code",
   "execution_count": 3,
   "metadata": {},
   "outputs": [],
   "source": [
    "dataMA = data[\"MA\"]"
   ]
  },
  {
   "cell_type": "code",
   "execution_count": 4,
   "metadata": {},
   "outputs": [
    {
     "data": {
      "text/html": [
       "<div>\n",
       "<style scoped>\n",
       "    .dataframe tbody tr th:only-of-type {\n",
       "        vertical-align: middle;\n",
       "    }\n",
       "\n",
       "    .dataframe tbody tr th {\n",
       "        vertical-align: top;\n",
       "    }\n",
       "\n",
       "    .dataframe thead th {\n",
       "        text-align: right;\n",
       "    }\n",
       "</style>\n",
       "<table border=\"1\" class=\"dataframe\">\n",
       "  <thead>\n",
       "    <tr style=\"text-align: right;\">\n",
       "      <th></th>\n",
       "      <th>HHSIZE</th>\n",
       "      <th>HHVEHCNT</th>\n",
       "      <th>DRIVER_0</th>\n",
       "      <th>DRIVER_1</th>\n",
       "      <th>EDUC_1</th>\n",
       "      <th>EDUC_2</th>\n",
       "      <th>EDUC_3</th>\n",
       "      <th>EDUC_4</th>\n",
       "      <th>EDUC_5</th>\n",
       "      <th>URBANSIZE_1</th>\n",
       "      <th>URBANSIZE_2</th>\n",
       "      <th>URBANSIZE_3</th>\n",
       "      <th>URBANSIZE_4</th>\n",
       "      <th>URBANSIZE_5</th>\n",
       "      <th>URBANSIZE_6</th>\n",
       "      <th>URBRUR_1</th>\n",
       "      <th>URBRUR_2</th>\n",
       "    </tr>\n",
       "  </thead>\n",
       "  <tbody>\n",
       "    <tr>\n",
       "      <th>0</th>\n",
       "      <td>0.899427</td>\n",
       "      <td>1</td>\n",
       "      <td>0</td>\n",
       "      <td>1</td>\n",
       "      <td>0</td>\n",
       "      <td>0</td>\n",
       "      <td>0</td>\n",
       "      <td>1</td>\n",
       "      <td>0</td>\n",
       "      <td>0</td>\n",
       "      <td>0</td>\n",
       "      <td>0</td>\n",
       "      <td>0</td>\n",
       "      <td>1</td>\n",
       "      <td>0</td>\n",
       "      <td>1</td>\n",
       "      <td>0</td>\n",
       "    </tr>\n",
       "    <tr>\n",
       "      <th>1</th>\n",
       "      <td>0.899427</td>\n",
       "      <td>1</td>\n",
       "      <td>0</td>\n",
       "      <td>1</td>\n",
       "      <td>0</td>\n",
       "      <td>0</td>\n",
       "      <td>0</td>\n",
       "      <td>1</td>\n",
       "      <td>0</td>\n",
       "      <td>0</td>\n",
       "      <td>0</td>\n",
       "      <td>0</td>\n",
       "      <td>0</td>\n",
       "      <td>1</td>\n",
       "      <td>0</td>\n",
       "      <td>1</td>\n",
       "      <td>0</td>\n",
       "    </tr>\n",
       "    <tr>\n",
       "      <th>2</th>\n",
       "      <td>0.899427</td>\n",
       "      <td>1</td>\n",
       "      <td>0</td>\n",
       "      <td>1</td>\n",
       "      <td>0</td>\n",
       "      <td>0</td>\n",
       "      <td>0</td>\n",
       "      <td>1</td>\n",
       "      <td>0</td>\n",
       "      <td>0</td>\n",
       "      <td>0</td>\n",
       "      <td>0</td>\n",
       "      <td>0</td>\n",
       "      <td>1</td>\n",
       "      <td>0</td>\n",
       "      <td>1</td>\n",
       "      <td>0</td>\n",
       "    </tr>\n",
       "    <tr>\n",
       "      <th>3</th>\n",
       "      <td>0.899427</td>\n",
       "      <td>1</td>\n",
       "      <td>0</td>\n",
       "      <td>1</td>\n",
       "      <td>0</td>\n",
       "      <td>0</td>\n",
       "      <td>0</td>\n",
       "      <td>1</td>\n",
       "      <td>0</td>\n",
       "      <td>0</td>\n",
       "      <td>0</td>\n",
       "      <td>0</td>\n",
       "      <td>0</td>\n",
       "      <td>1</td>\n",
       "      <td>0</td>\n",
       "      <td>1</td>\n",
       "      <td>0</td>\n",
       "    </tr>\n",
       "    <tr>\n",
       "      <th>4</th>\n",
       "      <td>1.798855</td>\n",
       "      <td>1</td>\n",
       "      <td>0</td>\n",
       "      <td>1</td>\n",
       "      <td>0</td>\n",
       "      <td>0</td>\n",
       "      <td>1</td>\n",
       "      <td>0</td>\n",
       "      <td>0</td>\n",
       "      <td>0</td>\n",
       "      <td>0</td>\n",
       "      <td>0</td>\n",
       "      <td>0</td>\n",
       "      <td>1</td>\n",
       "      <td>0</td>\n",
       "      <td>1</td>\n",
       "      <td>0</td>\n",
       "    </tr>\n",
       "  </tbody>\n",
       "</table>\n",
       "</div>"
      ],
      "text/plain": [
       "     HHSIZE  HHVEHCNT  DRIVER_0  DRIVER_1  EDUC_1  EDUC_2  EDUC_3  EDUC_4  \\\n",
       "0  0.899427         1         0         1       0       0       0       1   \n",
       "1  0.899427         1         0         1       0       0       0       1   \n",
       "2  0.899427         1         0         1       0       0       0       1   \n",
       "3  0.899427         1         0         1       0       0       0       1   \n",
       "4  1.798855         1         0         1       0       0       1       0   \n",
       "\n",
       "   EDUC_5  URBANSIZE_1  URBANSIZE_2  URBANSIZE_3  URBANSIZE_4  URBANSIZE_5  \\\n",
       "0       0            0            0            0            0            1   \n",
       "1       0            0            0            0            0            1   \n",
       "2       0            0            0            0            0            1   \n",
       "3       0            0            0            0            0            1   \n",
       "4       0            0            0            0            0            1   \n",
       "\n",
       "   URBANSIZE_6  URBRUR_1  URBRUR_2  \n",
       "0            0         1         0  \n",
       "1            0         1         0  \n",
       "2            0         1         0  \n",
       "3            0         1         0  \n",
       "4            0         1         0  "
      ]
     },
     "execution_count": 4,
     "metadata": {},
     "output_type": "execute_result"
    }
   ],
   "source": [
    "dataMA.head()"
   ]
  },
  {
   "cell_type": "code",
   "execution_count": 5,
   "metadata": {},
   "outputs": [],
   "source": [
    "def df_to_np(dataframe,shuffle=True,batch_size=32,target=\"HHVEHCNT\"):\n",
    "    dataframe = dataframe.copy()\n",
    "    labels = dataframe.pop(target)\n",
    "    return dataframe.values, labels.values"
   ]
  },
  {
   "cell_type": "code",
   "execution_count": 6,
   "metadata": {},
   "outputs": [
    {
     "ename": "NameError",
     "evalue": "name 'train_X' is not defined",
     "output_type": "error",
     "traceback": [
      "\u001b[0;31m---------------------------------------------------------------------------\u001b[0m",
      "\u001b[0;31mNameError\u001b[0m                                 Traceback (most recent call last)",
      "\u001b[0;32m<ipython-input-6-0dce04e5e0bd>\u001b[0m in \u001b[0;36m<module>\u001b[0;34m\u001b[0m\n\u001b[1;32m      1\u001b[0m \u001b[0mtrain_X_MA\u001b[0m\u001b[0;34m,\u001b[0m \u001b[0mtrain_y_MA\u001b[0m \u001b[0;34m=\u001b[0m \u001b[0mdf_to_np\u001b[0m\u001b[0;34m(\u001b[0m\u001b[0mdataMA\u001b[0m\u001b[0;34m)\u001b[0m\u001b[0;34m\u001b[0m\u001b[0;34m\u001b[0m\u001b[0m\n\u001b[0;32m----> 2\u001b[0;31m \u001b[0mprint\u001b[0m\u001b[0;34m(\u001b[0m\u001b[0mtrain_X\u001b[0m\u001b[0;34m.\u001b[0m\u001b[0mshape\u001b[0m\u001b[0;34m)\u001b[0m\u001b[0;34m\u001b[0m\u001b[0;34m\u001b[0m\u001b[0m\n\u001b[0m\u001b[1;32m      3\u001b[0m \u001b[0mprint\u001b[0m\u001b[0;34m(\u001b[0m\u001b[0mtrain_y\u001b[0m\u001b[0;34m.\u001b[0m\u001b[0mshape\u001b[0m\u001b[0;34m)\u001b[0m\u001b[0;34m\u001b[0m\u001b[0;34m\u001b[0m\u001b[0m\n",
      "\u001b[0;31mNameError\u001b[0m: name 'train_X' is not defined"
     ]
    }
   ],
   "source": [
    "train_X_MA, train_y_MA = df_to_np(dataMA)\n",
    "print(train_X.shape)\n",
    "print(train_y.shape)"
   ]
  },
  {
   "cell_type": "code",
   "execution_count": 7,
   "metadata": {},
   "outputs": [
    {
     "name": "stdout",
     "output_type": "stream",
     "text": [
      "Train on 2568 samples, validate on 643 samples\n",
      "Epoch 1/5\n",
      "2568/2568 [==============================] - 1s 355us/sample - loss: 1.0928 - accuracy: 0.5343 - val_loss: 1.0480 - val_accuracy: 0.5754\n",
      "Epoch 2/5\n",
      "2568/2568 [==============================] - 0s 46us/sample - loss: 0.8708 - accuracy: 0.6674 - val_loss: 1.0372 - val_accuracy: 0.5801\n",
      "Epoch 3/5\n",
      "2568/2568 [==============================] - 0s 48us/sample - loss: 0.8106 - accuracy: 0.6900 - val_loss: 1.1071 - val_accuracy: 0.5614\n",
      "Epoch 4/5\n",
      "2568/2568 [==============================] - 0s 42us/sample - loss: 0.7694 - accuracy: 0.6963 - val_loss: 1.0765 - val_accuracy: 0.5723\n",
      "Epoch 5/5\n",
      "2568/2568 [==============================] - 0s 46us/sample - loss: 0.7486 - accuracy: 0.6990 - val_loss: 1.1124 - val_accuracy: 0.5381\n"
     ]
    },
    {
     "data": {
      "text/plain": [
       "<tensorflow.python.keras.callbacks.History at 0x1a3ffdf128>"
      ]
     },
     "execution_count": 7,
     "metadata": {},
     "output_type": "execute_result"
    }
   ],
   "source": [
    "modelMA = tf.keras.Sequential([\n",
    "  tf.keras.layers.Dense(128,activation=\"relu\"),\n",
    "  #tf.keras.layers.Dropout(0.5),\n",
    "  tf.keras.layers.Dense(128),\n",
    "  #tf.keras.layers.Dropout(0.5),\n",
    "  tf.keras.layers.Dense(128),\n",
    "  #tf.keras.layers.Dropout(0.5),\n",
    "  tf.keras.layers.Dense(128),\n",
    "  #tf.keras.layers.Dropout(0.5),\n",
    "  tf.keras.layers.Dense(64,activation=\"relu\"),\n",
    "  tf.keras.layers.Dense(4,activation=\"softmax\")\n",
    "])\n",
    "\n",
    "modelMA.compile(optimizer='adam',\n",
    "              loss='sparse_categorical_crossentropy',\n",
    "              metrics=['accuracy'])\n",
    "\n",
    "modelMA.fit(x=train_X_MA, y = train_y_MA,epochs=5, batch_size = 100, validation_split=0.2, shuffle=True)"
   ]
  },
  {
   "cell_type": "code",
   "execution_count": 8,
   "metadata": {},
   "outputs": [
    {
     "data": {
      "text/plain": [
       "[array([[ 0.16146778, -0.2114275 ,  0.00806019, ..., -0.15091166,\n",
       "         -0.15316764, -0.16355145],\n",
       "        [-0.00510243, -0.15372837, -0.06438292, ..., -0.03659481,\n",
       "          0.17001641,  0.10256773],\n",
       "        [-0.08721658,  0.01630916,  0.12446278, ..., -0.17490639,\n",
       "         -0.10091607, -0.18295771],\n",
       "        ...,\n",
       "        [ 0.20816132,  0.09885196, -0.16056952, ...,  0.10421827,\n",
       "          0.01446052, -0.04255879],\n",
       "        [-0.16180807, -0.0584738 , -0.06912175, ..., -0.14443491,\n",
       "          0.05999483, -0.15461421],\n",
       "        [ 0.14206946, -0.05026925, -0.09361045, ..., -0.11257225,\n",
       "         -0.18448469,  0.18336111]], dtype=float32),\n",
       " array([ 0.01807267, -0.02646597,  0.00136518, -0.01416819,  0.00831796,\n",
       "         0.00454813, -0.008067  ,  0.0024819 ,  0.00499014, -0.00888215,\n",
       "         0.03091212, -0.00508517, -0.00556349, -0.00707934,  0.04368664,\n",
       "         0.01223597,  0.00298602,  0.01152899,  0.02477178,  0.01103156,\n",
       "        -0.01276777, -0.00097959, -0.00303773, -0.00823832, -0.00959428,\n",
       "         0.02481384, -0.00885671,  0.01286507,  0.02516667,  0.01953467,\n",
       "        -0.01993055,  0.00908174, -0.00594801,  0.02710117, -0.00695525,\n",
       "         0.01171217,  0.00807733,  0.04897396,  0.0142229 , -0.00498061,\n",
       "         0.02307124,  0.02117938,  0.00230314, -0.00498543,  0.0080361 ,\n",
       "         0.00083643, -0.02251416, -0.00571715,  0.03608477,  0.00470294,\n",
       "         0.        ,  0.0079945 ,  0.00186948,  0.00665994,  0.04927   ,\n",
       "        -0.02433536, -0.00660621,  0.01944776, -0.01138687,  0.00637383,\n",
       "         0.01751617, -0.00820036, -0.00314913,  0.01426659, -0.01877627,\n",
       "         0.00625723,  0.01174632,  0.00177085,  0.00903924, -0.01808598,\n",
       "        -0.00303199, -0.00502271, -0.01278776,  0.        ,  0.00921847,\n",
       "        -0.0101221 , -0.00867317, -0.00635026,  0.03420356,  0.00055301,\n",
       "         0.01545929,  0.01591984,  0.01014706, -0.02019103, -0.02586407,\n",
       "         0.01137089,  0.01172041, -0.00336988, -0.00593696,  0.01291684,\n",
       "         0.        ,  0.01447606,  0.01224801,  0.02096107, -0.00682733,\n",
       "         0.03902715, -0.00225888,  0.02071697, -0.0021189 ,  0.03342233,\n",
       "         0.00243141,  0.00907835,  0.00741088,  0.02463997, -0.01095324,\n",
       "         0.0244847 , -0.00068101, -0.01550424,  0.01302269, -0.00775603,\n",
       "         0.        ,  0.00720726,  0.00455186,  0.01352734,  0.00540826,\n",
       "         0.03831083,  0.00564534,  0.00749594,  0.0049888 , -0.01515576,\n",
       "        -0.01003453,  0.00438184,  0.01419337, -0.00142156,  0.00738235,\n",
       "         0.        ,  0.01269674,  0.        ], dtype=float32)]"
      ]
     },
     "execution_count": 8,
     "metadata": {},
     "output_type": "execute_result"
    }
   ],
   "source": [
    "weightsMA_0 = modelMA.layers[0].get_weights()\n",
    "weightsMA_0"
   ]
  },
  {
   "cell_type": "code",
   "execution_count": 9,
   "metadata": {},
   "outputs": [
    {
     "data": {
      "text/html": [
       "<div>\n",
       "<style scoped>\n",
       "    .dataframe tbody tr th:only-of-type {\n",
       "        vertical-align: middle;\n",
       "    }\n",
       "\n",
       "    .dataframe tbody tr th {\n",
       "        vertical-align: top;\n",
       "    }\n",
       "\n",
       "    .dataframe thead th {\n",
       "        text-align: right;\n",
       "    }\n",
       "</style>\n",
       "<table border=\"1\" class=\"dataframe\">\n",
       "  <thead>\n",
       "    <tr style=\"text-align: right;\">\n",
       "      <th></th>\n",
       "      <th>HHSIZE</th>\n",
       "      <th>HHVEHCNT</th>\n",
       "      <th>DRIVER_0</th>\n",
       "      <th>DRIVER_1</th>\n",
       "      <th>EDUC_1</th>\n",
       "      <th>EDUC_2</th>\n",
       "      <th>EDUC_3</th>\n",
       "      <th>EDUC_4</th>\n",
       "      <th>EDUC_5</th>\n",
       "      <th>URBANSIZE_1</th>\n",
       "      <th>URBANSIZE_2</th>\n",
       "      <th>URBANSIZE_3</th>\n",
       "      <th>URBANSIZE_4</th>\n",
       "      <th>URBANSIZE_5</th>\n",
       "      <th>URBANSIZE_6</th>\n",
       "      <th>URBRUR_1</th>\n",
       "      <th>URBRUR_2</th>\n",
       "    </tr>\n",
       "  </thead>\n",
       "  <tbody>\n",
       "    <tr>\n",
       "      <th>0</th>\n",
       "      <td>1.533065</td>\n",
       "      <td>2</td>\n",
       "      <td>0</td>\n",
       "      <td>1</td>\n",
       "      <td>0</td>\n",
       "      <td>0</td>\n",
       "      <td>0</td>\n",
       "      <td>0</td>\n",
       "      <td>1</td>\n",
       "      <td>0</td>\n",
       "      <td>1</td>\n",
       "      <td>0</td>\n",
       "      <td>0</td>\n",
       "      <td>0</td>\n",
       "      <td>0</td>\n",
       "      <td>1</td>\n",
       "      <td>0</td>\n",
       "    </tr>\n",
       "    <tr>\n",
       "      <th>1</th>\n",
       "      <td>1.533065</td>\n",
       "      <td>2</td>\n",
       "      <td>0</td>\n",
       "      <td>1</td>\n",
       "      <td>0</td>\n",
       "      <td>0</td>\n",
       "      <td>0</td>\n",
       "      <td>0</td>\n",
       "      <td>1</td>\n",
       "      <td>0</td>\n",
       "      <td>1</td>\n",
       "      <td>0</td>\n",
       "      <td>0</td>\n",
       "      <td>0</td>\n",
       "      <td>0</td>\n",
       "      <td>1</td>\n",
       "      <td>0</td>\n",
       "    </tr>\n",
       "    <tr>\n",
       "      <th>2</th>\n",
       "      <td>1.533065</td>\n",
       "      <td>2</td>\n",
       "      <td>0</td>\n",
       "      <td>1</td>\n",
       "      <td>1</td>\n",
       "      <td>0</td>\n",
       "      <td>0</td>\n",
       "      <td>0</td>\n",
       "      <td>0</td>\n",
       "      <td>0</td>\n",
       "      <td>1</td>\n",
       "      <td>0</td>\n",
       "      <td>0</td>\n",
       "      <td>0</td>\n",
       "      <td>0</td>\n",
       "      <td>1</td>\n",
       "      <td>0</td>\n",
       "    </tr>\n",
       "    <tr>\n",
       "      <th>3</th>\n",
       "      <td>1.533065</td>\n",
       "      <td>2</td>\n",
       "      <td>0</td>\n",
       "      <td>1</td>\n",
       "      <td>1</td>\n",
       "      <td>0</td>\n",
       "      <td>0</td>\n",
       "      <td>0</td>\n",
       "      <td>0</td>\n",
       "      <td>0</td>\n",
       "      <td>1</td>\n",
       "      <td>0</td>\n",
       "      <td>0</td>\n",
       "      <td>0</td>\n",
       "      <td>0</td>\n",
       "      <td>1</td>\n",
       "      <td>0</td>\n",
       "    </tr>\n",
       "    <tr>\n",
       "      <th>4</th>\n",
       "      <td>1.533065</td>\n",
       "      <td>2</td>\n",
       "      <td>0</td>\n",
       "      <td>1</td>\n",
       "      <td>1</td>\n",
       "      <td>0</td>\n",
       "      <td>0</td>\n",
       "      <td>0</td>\n",
       "      <td>0</td>\n",
       "      <td>0</td>\n",
       "      <td>1</td>\n",
       "      <td>0</td>\n",
       "      <td>0</td>\n",
       "      <td>0</td>\n",
       "      <td>0</td>\n",
       "      <td>1</td>\n",
       "      <td>0</td>\n",
       "    </tr>\n",
       "  </tbody>\n",
       "</table>\n",
       "</div>"
      ],
      "text/plain": [
       "     HHSIZE  HHVEHCNT  DRIVER_0  DRIVER_1  EDUC_1  EDUC_2  EDUC_3  EDUC_4  \\\n",
       "0  1.533065         2         0         1       0       0       0       0   \n",
       "1  1.533065         2         0         1       0       0       0       0   \n",
       "2  1.533065         2         0         1       1       0       0       0   \n",
       "3  1.533065         2         0         1       1       0       0       0   \n",
       "4  1.533065         2         0         1       1       0       0       0   \n",
       "\n",
       "   EDUC_5  URBANSIZE_1  URBANSIZE_2  URBANSIZE_3  URBANSIZE_4  URBANSIZE_5  \\\n",
       "0       1            0            1            0            0            0   \n",
       "1       1            0            1            0            0            0   \n",
       "2       0            0            1            0            0            0   \n",
       "3       0            0            1            0            0            0   \n",
       "4       0            0            1            0            0            0   \n",
       "\n",
       "   URBANSIZE_6  URBRUR_1  URBRUR_2  \n",
       "0            0         1         0  \n",
       "1            0         1         0  \n",
       "2            0         1         0  \n",
       "3            0         1         0  \n",
       "4            0         1         0  "
      ]
     },
     "execution_count": 9,
     "metadata": {},
     "output_type": "execute_result"
    }
   ],
   "source": [
    "dataCA = data[\"CA\"]\n",
    "dataCA.head()"
   ]
  },
  {
   "cell_type": "code",
   "execution_count": 10,
   "metadata": {},
   "outputs": [
    {
     "name": "stdout",
     "output_type": "stream",
     "text": [
      "(155992, 16)\n",
      "(155992,)\n"
     ]
    }
   ],
   "source": [
    "train_X_CA, train_y_CA = df_to_np(dataCA)\n",
    "print(train_X_CA.shape)\n",
    "print(train_y_CA.shape)"
   ]
  },
  {
   "cell_type": "code",
   "execution_count": 11,
   "metadata": {},
   "outputs": [
    {
     "name": "stdout",
     "output_type": "stream",
     "text": [
      "Train on 124793 samples, validate on 31199 samples\n",
      "Epoch 1/5\n",
      "124793/124793 [==============================] - 2s 15us/sample - loss: 0.9553 - accuracy: 0.5599 - val_loss: 0.9261 - val_accuracy: 0.5769\n",
      "Epoch 2/5\n",
      "124793/124793 [==============================] - 1s 10us/sample - loss: 0.9136 - accuracy: 0.5862 - val_loss: 0.9294 - val_accuracy: 0.5723\n",
      "Epoch 3/5\n",
      "124793/124793 [==============================] - 2s 16us/sample - loss: 0.9097 - accuracy: 0.5869 - val_loss: 0.9233 - val_accuracy: 0.5872\n",
      "Epoch 4/5\n",
      "124793/124793 [==============================] - 2s 14us/sample - loss: 0.9073 - accuracy: 0.5888 - val_loss: 0.9234 - val_accuracy: 0.5831\n",
      "Epoch 5/5\n",
      "124793/124793 [==============================] - 2s 17us/sample - loss: 0.9072 - accuracy: 0.5904 - val_loss: 0.9228 - val_accuracy: 0.5780\n"
     ]
    },
    {
     "data": {
      "text/plain": [
       "<tensorflow.python.keras.callbacks.History at 0x1a432ebe48>"
      ]
     },
     "execution_count": 11,
     "metadata": {},
     "output_type": "execute_result"
    }
   ],
   "source": [
    "modelCA_benchmark = tf.keras.Sequential([\n",
    "  tf.keras.layers.Dense(128,activation=\"relu\"), \n",
    "  #tf.keras.layers.Dropout(0.5),\n",
    "  tf.keras.layers.Dense(128),\n",
    "  #tf.keras.layers.Dropout(0.5),\n",
    "  tf.keras.layers.Dense(128),\n",
    "  #tf.keras.layers.Dropout(0.5),\n",
    "  tf.keras.layers.Dense(128),\n",
    "  #tf.keras.layers.Dropout(0.5),\n",
    "  tf.keras.layers.Dense(64,activation=\"relu\"),\n",
    "  tf.keras.layers.Dense(4,activation=\"softmax\")\n",
    "])\n",
    "\n",
    "modelCA_benchmark.compile(optimizer='adam',\n",
    "              loss='sparse_categorical_crossentropy',\n",
    "              metrics=['accuracy'])\n",
    "\n",
    "modelCA_benchmark.fit(x=train_X_CA, y = train_y_CA,epochs=5, batch_size = 1000, validation_split=0.2, shuffle=True)"
   ]
  },
  {
   "cell_type": "code",
   "execution_count": 12,
   "metadata": {},
   "outputs": [
    {
     "data": {
      "text/plain": [
       "array([[-0.19053136,  0.02595739, -0.21050896, ..., -0.07676836,\n",
       "         0.14700328,  0.02427791],\n",
       "       [ 0.08770394,  0.14293781,  0.16660129, ...,  0.15244879,\n",
       "         0.05649608, -0.02446462],\n",
       "       [ 0.16319767, -0.21831238, -0.07462218, ..., -0.16689365,\n",
       "        -0.10558878,  0.08542293],\n",
       "       ...,\n",
       "       [ 0.09918969, -0.18402451, -0.02542645, ...,  0.07253549,\n",
       "         0.15515429,  0.02777442],\n",
       "       [ 0.1231924 , -0.12024619,  0.15361284, ...,  0.00880667,\n",
       "        -0.11296156, -0.1528654 ],\n",
       "       [-0.05517871, -0.1045403 , -0.11482907, ..., -0.11053555,\n",
       "         0.01536542, -0.01073859]], dtype=float32)"
      ]
     },
     "execution_count": 12,
     "metadata": {},
     "output_type": "execute_result"
    }
   ],
   "source": [
    "modelCA_benchmark.layers[0].get_weights()[0]"
   ]
  },
  {
   "cell_type": "code",
   "execution_count": 23,
   "metadata": {},
   "outputs": [
    {
     "name": "stdout",
     "output_type": "stream",
     "text": [
      "Train on 124793 samples, validate on 31199 samples\n",
      "Epoch 1/5\n",
      "124793/124793 [==============================] - 2s 13us/sample - loss: 0.9618 - accuracy: 0.5574 - val_loss: 0.9370 - val_accuracy: 0.5691\n",
      "Epoch 2/5\n",
      "124793/124793 [==============================] - 1s 9us/sample - loss: 0.9162 - accuracy: 0.5835 - val_loss: 0.9276 - val_accuracy: 0.5888\n",
      "Epoch 3/5\n",
      "124793/124793 [==============================] - 1s 9us/sample - loss: 0.9133 - accuracy: 0.5861 - val_loss: 0.9314 - val_accuracy: 0.5663\n",
      "Epoch 4/5\n",
      "124793/124793 [==============================] - 1s 9us/sample - loss: 0.9103 - accuracy: 0.5875 - val_loss: 0.9280 - val_accuracy: 0.5872\n",
      "Epoch 5/5\n",
      "124793/124793 [==============================] - 1s 10us/sample - loss: 0.9086 - accuracy: 0.5909 - val_loss: 0.9262 - val_accuracy: 0.5909\n"
     ]
    },
    {
     "data": {
      "text/plain": [
       "<tensorflow.python.keras.callbacks.History at 0x1a4436cba8>"
      ]
     },
     "execution_count": 23,
     "metadata": {},
     "output_type": "execute_result"
    }
   ],
   "source": [
    "modelCA_frozenTransfer = tf.keras.Sequential([\n",
    "  tf.keras.layers.Dense(128,activation=\"relu\", weights = weightsMA_0, trainable = False), \n",
    "  #tf.keras.layers.Dropout(0.5),\n",
    "  tf.keras.layers.Dense(128),\n",
    "  #tf.keras.layers.Dropout(0.5),\n",
    "  tf.keras.layers.Dense(128),\n",
    "  #tf.keras.layers.Dropout(0.5),\n",
    "  tf.keras.layers.Dense(128),\n",
    "  #tf.keras.layers.Dropout(0.5),\n",
    "  tf.keras.layers.Dense(64,activation=\"relu\"),\n",
    "  tf.keras.layers.Dense(4,activation=\"softmax\")\n",
    "])\n",
    "\n",
    "modelCA_frozenTransfer.compile(optimizer='adam',\n",
    "              loss='sparse_categorical_crossentropy',\n",
    "              metrics=['accuracy'])\n",
    "\n",
    "modelCA_frozenTransfer.fit(x=train_X_CA, y = train_y_CA,epochs=5, batch_size = 1000, validation_split=0.2, shuffle=True)"
   ]
  },
  {
   "cell_type": "code",
   "execution_count": 24,
   "metadata": {},
   "outputs": [
    {
     "data": {
      "text/plain": [
       "[array([[ 0.16146778, -0.2114275 ,  0.00806019, ..., -0.15091166,\n",
       "         -0.15316764, -0.16355145],\n",
       "        [-0.00510243, -0.15372837, -0.06438292, ..., -0.03659481,\n",
       "          0.17001641,  0.10256773],\n",
       "        [-0.08721658,  0.01630916,  0.12446278, ..., -0.17490639,\n",
       "         -0.10091607, -0.18295771],\n",
       "        ...,\n",
       "        [ 0.20816132,  0.09885196, -0.16056952, ...,  0.10421827,\n",
       "          0.01446052, -0.04255879],\n",
       "        [-0.16180807, -0.0584738 , -0.06912175, ..., -0.14443491,\n",
       "          0.05999483, -0.15461421],\n",
       "        [ 0.14206946, -0.05026925, -0.09361045, ..., -0.11257225,\n",
       "         -0.18448469,  0.18336111]], dtype=float32),\n",
       " array([ 0.01807267, -0.02646597,  0.00136518, -0.01416819,  0.00831796,\n",
       "         0.00454813, -0.008067  ,  0.0024819 ,  0.00499014, -0.00888215,\n",
       "         0.03091212, -0.00508517, -0.00556349, -0.00707934,  0.04368664,\n",
       "         0.01223597,  0.00298602,  0.01152899,  0.02477178,  0.01103156,\n",
       "        -0.01276777, -0.00097959, -0.00303773, -0.00823832, -0.00959428,\n",
       "         0.02481384, -0.00885671,  0.01286507,  0.02516667,  0.01953467,\n",
       "        -0.01993055,  0.00908174, -0.00594801,  0.02710117, -0.00695525,\n",
       "         0.01171217,  0.00807733,  0.04897396,  0.0142229 , -0.00498061,\n",
       "         0.02307124,  0.02117938,  0.00230314, -0.00498543,  0.0080361 ,\n",
       "         0.00083643, -0.02251416, -0.00571715,  0.03608477,  0.00470294,\n",
       "         0.        ,  0.0079945 ,  0.00186948,  0.00665994,  0.04927   ,\n",
       "        -0.02433536, -0.00660621,  0.01944776, -0.01138687,  0.00637383,\n",
       "         0.01751617, -0.00820036, -0.00314913,  0.01426659, -0.01877627,\n",
       "         0.00625723,  0.01174632,  0.00177085,  0.00903924, -0.01808598,\n",
       "        -0.00303199, -0.00502271, -0.01278776,  0.        ,  0.00921847,\n",
       "        -0.0101221 , -0.00867317, -0.00635026,  0.03420356,  0.00055301,\n",
       "         0.01545929,  0.01591984,  0.01014706, -0.02019103, -0.02586407,\n",
       "         0.01137089,  0.01172041, -0.00336988, -0.00593696,  0.01291684,\n",
       "         0.        ,  0.01447606,  0.01224801,  0.02096107, -0.00682733,\n",
       "         0.03902715, -0.00225888,  0.02071697, -0.0021189 ,  0.03342233,\n",
       "         0.00243141,  0.00907835,  0.00741088,  0.02463997, -0.01095324,\n",
       "         0.0244847 , -0.00068101, -0.01550424,  0.01302269, -0.00775603,\n",
       "         0.        ,  0.00720726,  0.00455186,  0.01352734,  0.00540826,\n",
       "         0.03831083,  0.00564534,  0.00749594,  0.0049888 , -0.01515576,\n",
       "        -0.01003453,  0.00438184,  0.01419337, -0.00142156,  0.00738235,\n",
       "         0.        ,  0.01269674,  0.        ], dtype=float32)]"
      ]
     },
     "execution_count": 24,
     "metadata": {},
     "output_type": "execute_result"
    }
   ],
   "source": [
    "modelCA_frozenTransfer.layers[0].get_weights()"
   ]
  },
  {
   "cell_type": "code",
   "execution_count": 25,
   "metadata": {},
   "outputs": [
    {
     "name": "stdout",
     "output_type": "stream",
     "text": [
      "Train on 124793 samples, validate on 31199 samples\n",
      "Epoch 1/5\n",
      "124793/124793 [==============================] - 2s 18us/sample - loss: 0.9441 - accuracy: 0.5670 - val_loss: 0.9243 - val_accuracy: 0.5900\n",
      "Epoch 2/5\n",
      "124793/124793 [==============================] - 1s 11us/sample - loss: 0.9122 - accuracy: 0.5870 - val_loss: 0.9255 - val_accuracy: 0.5863\n",
      "Epoch 3/5\n",
      "124793/124793 [==============================] - 1s 11us/sample - loss: 0.9090 - accuracy: 0.5882 - val_loss: 0.9272 - val_accuracy: 0.5826\n",
      "Epoch 4/5\n",
      "124793/124793 [==============================] - 2s 12us/sample - loss: 0.9075 - accuracy: 0.5892 - val_loss: 0.9285 - val_accuracy: 0.5837\n",
      "Epoch 5/5\n",
      "124793/124793 [==============================] - 2s 15us/sample - loss: 0.9071 - accuracy: 0.5898 - val_loss: 0.9232 - val_accuracy: 0.5882\n"
     ]
    },
    {
     "data": {
      "text/plain": [
       "<tensorflow.python.keras.callbacks.History at 0x1a45560438>"
      ]
     },
     "execution_count": 25,
     "metadata": {},
     "output_type": "execute_result"
    }
   ],
   "source": [
    "modelCA_unfrozenTransfer = tf.keras.Sequential([\n",
    "  tf.keras.layers.Dense(128,activation=\"relu\", weights = weightsMA_0, trainable = True), \n",
    "  #tf.keras.layers.Dropout(0.5),\n",
    "  tf.keras.layers.Dense(128),\n",
    "  #tf.keras.layers.Dropout(0.5),\n",
    "  tf.keras.layers.Dense(128),\n",
    "  #tf.keras.layers.Dropout(0.5),\n",
    "  tf.keras.layers.Dense(128),\n",
    "  #tf.keras.layers.Dropout(0.5),\n",
    "  tf.keras.layers.Dense(64,activation=\"relu\"),\n",
    "  tf.keras.layers.Dense(4,activation=\"softmax\")\n",
    "])\n",
    "\n",
    "modelCA_unfrozenTransfer.compile(optimizer='adam',\n",
    "              loss='sparse_categorical_crossentropy',\n",
    "              metrics=['accuracy'])\n",
    "\n",
    "modelCA_unfrozenTransfer.fit(x=train_X_CA, y = train_y_CA,epochs=5, batch_size = 1000, validation_split=0.2, shuffle=True)"
   ]
  },
  {
   "cell_type": "code",
   "execution_count": 26,
   "metadata": {},
   "outputs": [
    {
     "data": {
      "text/plain": [
       "[array([[ 0.15892963, -0.21600224, -0.00449288, ..., -0.15091166,\n",
       "         -0.19079284, -0.12145928],\n",
       "        [-0.04705903, -0.15372837, -0.01670328, ..., -0.03659481,\n",
       "          0.18272349,  0.18232025],\n",
       "        [-0.08714383,  0.01177121,  0.1213928 , ..., -0.17490639,\n",
       "         -0.0798448 , -0.24709666],\n",
       "        ...,\n",
       "        [ 0.20535643,  0.09431405, -0.17895766, ...,  0.10421827,\n",
       "          0.00610478, -0.01775966],\n",
       "        [-0.15536349, -0.0584738 , -0.06722983, ..., -0.14443491,\n",
       "          0.08167219, -0.25717324],\n",
       "        [ 0.11471581, -0.05480718, -0.10901158, ..., -0.11257225,\n",
       "         -0.19919479,  0.21930262]], dtype=float32),\n",
       " array([ 1.09600984e-02, -3.10039166e-02,  2.00786442e-03, -2.80904006e-02,\n",
       "        -4.99837985e-03,  2.26009381e-03, -3.42654698e-02, -1.26695484e-02,\n",
       "        -1.09452941e-02, -6.21617725e-03,  4.10633124e-02, -2.23838966e-02,\n",
       "        -3.48143354e-02, -3.36430743e-02,  4.27854843e-02,  1.62839275e-02,\n",
       "        -2.48672757e-02,  2.22368203e-02,  2.68282592e-02,  3.26564126e-02,\n",
       "        -2.55894959e-02, -9.33539681e-03, -4.06537764e-02, -1.35098007e-02,\n",
       "        -1.84905808e-02, -1.02696260e-02,  1.51945716e-02,  3.30277346e-02,\n",
       "         5.03414199e-02,  2.23016739e-02, -5.82820401e-02,  7.11580366e-03,\n",
       "        -2.01761443e-02,  3.75397764e-02, -1.78018715e-02,  5.63701801e-03,\n",
       "        -7.24382047e-03,  5.10653630e-02, -5.28154382e-03, -3.14617418e-02,\n",
       "         2.30867621e-02,  5.65745980e-02,  4.93565248e-03, -3.01998779e-02,\n",
       "         2.15129405e-02, -2.15989277e-02, -1.09695103e-02, -1.39206080e-02,\n",
       "         3.00359074e-02, -2.29746364e-02,  0.00000000e+00, -4.33531217e-03,\n",
       "         6.64864108e-03,  1.04517015e-02,  6.70136586e-02, -5.23348860e-02,\n",
       "        -2.61576306e-02,  4.24863584e-02, -1.08164297e-02,  1.12956958e-02,\n",
       "         3.95445526e-02, -4.19154130e-02,  2.16711150e-03,  1.37701826e-02,\n",
       "        -3.64095420e-02,  5.34254592e-03,  3.34779844e-02,  4.80694370e-03,\n",
       "         3.70923690e-02, -5.02545163e-02, -2.31258813e-02, -7.85577297e-03,\n",
       "        -1.88346673e-02, -6.03919802e-03, -3.91625892e-03, -3.20198126e-02,\n",
       "        -2.33723167e-02, -2.71111112e-02,  3.43004838e-02,  2.95156497e-03,\n",
       "        -1.20659880e-02,  1.35279102e-02,  1.25422776e-02, -3.37949283e-02,\n",
       "        -1.90052446e-02,  1.87556576e-02,  1.55978212e-02, -1.57818776e-02,\n",
       "        -7.89618492e-03,  2.25339439e-02,  1.62179135e-02,  1.92119647e-02,\n",
       "        -3.41233681e-03,  3.28466184e-02, -2.98630353e-02,  5.65572456e-02,\n",
       "        -5.38949994e-03,  9.95906163e-03, -2.42978632e-02,  4.75590751e-02,\n",
       "        -1.08012427e-02,  2.48511657e-02,  3.31725329e-02,  5.36936596e-02,\n",
       "        -3.14118937e-02,  2.38151178e-02,  3.81743448e-05, -4.11997251e-02,\n",
       "         1.70168821e-02, -4.32388252e-03,  2.02679932e-02,  2.05948716e-03,\n",
       "         2.21098377e-03,  8.40780511e-03,  6.95593935e-03,  2.19093021e-02,\n",
       "         1.61238331e-02,  1.40715037e-02, -6.31572865e-03, -4.27727923e-02,\n",
       "        -2.76541729e-02, -7.78957736e-03,  5.90961520e-03,  3.08909658e-02,\n",
       "         1.10019781e-02,  0.00000000e+00,  3.41097340e-02,  5.21461898e-03],\n",
       "       dtype=float32)]"
      ]
     },
     "execution_count": 26,
     "metadata": {},
     "output_type": "execute_result"
    }
   ],
   "source": [
    "modelCA_unfrozenTransfer.layers[0].get_weights()"
   ]
  },
  {
   "cell_type": "code",
   "execution_count": null,
   "metadata": {},
   "outputs": [],
   "source": []
  },
  {
   "cell_type": "code",
   "execution_count": null,
   "metadata": {},
   "outputs": [],
   "source": []
  }
 ],
 "metadata": {
  "kernelspec": {
   "display_name": "Python 3",
   "language": "python",
   "name": "python3"
  },
  "language_info": {
   "codemirror_mode": {
    "name": "ipython",
    "version": 3
   },
   "file_extension": ".py",
   "mimetype": "text/x-python",
   "name": "python",
   "nbconvert_exporter": "python",
   "pygments_lexer": "ipython3",
   "version": "3.6.8"
  }
 },
 "nbformat": 4,
 "nbformat_minor": 2
}
