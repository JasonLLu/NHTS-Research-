{
 "cells": [
  {
   "cell_type": "code",
   "execution_count": 12,
   "metadata": {},
   "outputs": [],
   "source": [
    "import tensorflow as tf\n",
    "from tensorflow import feature_column\n",
    "from tensorflow.keras import layers\n",
    "#tf.enable_eager_execution()\n",
    "import pandas as pd\n",
    "from sklearn.model_selection import train_test_split\n",
    "from sklearn import preprocessing\n",
    "import numpy as np"
   ]
  },
  {
   "cell_type": "code",
   "execution_count": 13,
   "metadata": {},
   "outputs": [],
   "source": [
    "dataMA = pd.read_csv(\"encoded_data_input_V1_MA.csv\")"
   ]
  },
  {
   "cell_type": "code",
   "execution_count": 14,
   "metadata": {},
   "outputs": [
    {
     "data": {
      "text/html": [
       "<div>\n",
       "<style scoped>\n",
       "    .dataframe tbody tr th:only-of-type {\n",
       "        vertical-align: middle;\n",
       "    }\n",
       "\n",
       "    .dataframe tbody tr th {\n",
       "        vertical-align: top;\n",
       "    }\n",
       "\n",
       "    .dataframe thead th {\n",
       "        text-align: right;\n",
       "    }\n",
       "</style>\n",
       "<table border=\"1\" class=\"dataframe\">\n",
       "  <thead>\n",
       "    <tr style=\"text-align: right;\">\n",
       "      <th></th>\n",
       "      <th>HHSIZE</th>\n",
       "      <th>HHVEHCNT</th>\n",
       "      <th>DRIVER_0</th>\n",
       "      <th>DRIVER_1</th>\n",
       "      <th>EDUC_1</th>\n",
       "      <th>EDUC_2</th>\n",
       "      <th>EDUC_3</th>\n",
       "      <th>EDUC_4</th>\n",
       "      <th>EDUC_5</th>\n",
       "      <th>URBANSIZE_1</th>\n",
       "      <th>URBANSIZE_2</th>\n",
       "      <th>URBANSIZE_3</th>\n",
       "      <th>URBANSIZE_4</th>\n",
       "      <th>URBANSIZE_5</th>\n",
       "      <th>URBANSIZE_6</th>\n",
       "      <th>URBRUR_1</th>\n",
       "      <th>URBRUR_2</th>\n",
       "    </tr>\n",
       "  </thead>\n",
       "  <tbody>\n",
       "    <tr>\n",
       "      <th>0</th>\n",
       "      <td>0.899427</td>\n",
       "      <td>1</td>\n",
       "      <td>0</td>\n",
       "      <td>1</td>\n",
       "      <td>0</td>\n",
       "      <td>0</td>\n",
       "      <td>0</td>\n",
       "      <td>1</td>\n",
       "      <td>0</td>\n",
       "      <td>0</td>\n",
       "      <td>0</td>\n",
       "      <td>0</td>\n",
       "      <td>0</td>\n",
       "      <td>1</td>\n",
       "      <td>0</td>\n",
       "      <td>1</td>\n",
       "      <td>0</td>\n",
       "    </tr>\n",
       "    <tr>\n",
       "      <th>1</th>\n",
       "      <td>0.899427</td>\n",
       "      <td>1</td>\n",
       "      <td>0</td>\n",
       "      <td>1</td>\n",
       "      <td>0</td>\n",
       "      <td>0</td>\n",
       "      <td>0</td>\n",
       "      <td>1</td>\n",
       "      <td>0</td>\n",
       "      <td>0</td>\n",
       "      <td>0</td>\n",
       "      <td>0</td>\n",
       "      <td>0</td>\n",
       "      <td>1</td>\n",
       "      <td>0</td>\n",
       "      <td>1</td>\n",
       "      <td>0</td>\n",
       "    </tr>\n",
       "    <tr>\n",
       "      <th>2</th>\n",
       "      <td>0.899427</td>\n",
       "      <td>1</td>\n",
       "      <td>0</td>\n",
       "      <td>1</td>\n",
       "      <td>0</td>\n",
       "      <td>0</td>\n",
       "      <td>0</td>\n",
       "      <td>1</td>\n",
       "      <td>0</td>\n",
       "      <td>0</td>\n",
       "      <td>0</td>\n",
       "      <td>0</td>\n",
       "      <td>0</td>\n",
       "      <td>1</td>\n",
       "      <td>0</td>\n",
       "      <td>1</td>\n",
       "      <td>0</td>\n",
       "    </tr>\n",
       "    <tr>\n",
       "      <th>3</th>\n",
       "      <td>0.899427</td>\n",
       "      <td>1</td>\n",
       "      <td>0</td>\n",
       "      <td>1</td>\n",
       "      <td>0</td>\n",
       "      <td>0</td>\n",
       "      <td>0</td>\n",
       "      <td>1</td>\n",
       "      <td>0</td>\n",
       "      <td>0</td>\n",
       "      <td>0</td>\n",
       "      <td>0</td>\n",
       "      <td>0</td>\n",
       "      <td>1</td>\n",
       "      <td>0</td>\n",
       "      <td>1</td>\n",
       "      <td>0</td>\n",
       "    </tr>\n",
       "    <tr>\n",
       "      <th>4</th>\n",
       "      <td>1.798855</td>\n",
       "      <td>1</td>\n",
       "      <td>0</td>\n",
       "      <td>1</td>\n",
       "      <td>0</td>\n",
       "      <td>0</td>\n",
       "      <td>1</td>\n",
       "      <td>0</td>\n",
       "      <td>0</td>\n",
       "      <td>0</td>\n",
       "      <td>0</td>\n",
       "      <td>0</td>\n",
       "      <td>0</td>\n",
       "      <td>1</td>\n",
       "      <td>0</td>\n",
       "      <td>1</td>\n",
       "      <td>0</td>\n",
       "    </tr>\n",
       "  </tbody>\n",
       "</table>\n",
       "</div>"
      ],
      "text/plain": [
       "     HHSIZE  HHVEHCNT  DRIVER_0  DRIVER_1  EDUC_1  EDUC_2  EDUC_3  EDUC_4  \\\n",
       "0  0.899427         1         0         1       0       0       0       1   \n",
       "1  0.899427         1         0         1       0       0       0       1   \n",
       "2  0.899427         1         0         1       0       0       0       1   \n",
       "3  0.899427         1         0         1       0       0       0       1   \n",
       "4  1.798855         1         0         1       0       0       1       0   \n",
       "\n",
       "   EDUC_5  URBANSIZE_1  URBANSIZE_2  URBANSIZE_3  URBANSIZE_4  URBANSIZE_5  \\\n",
       "0       0            0            0            0            0            1   \n",
       "1       0            0            0            0            0            1   \n",
       "2       0            0            0            0            0            1   \n",
       "3       0            0            0            0            0            1   \n",
       "4       0            0            0            0            0            1   \n",
       "\n",
       "   URBANSIZE_6  URBRUR_1  URBRUR_2  \n",
       "0            0         1         0  \n",
       "1            0         1         0  \n",
       "2            0         1         0  \n",
       "3            0         1         0  \n",
       "4            0         1         0  "
      ]
     },
     "execution_count": 14,
     "metadata": {},
     "output_type": "execute_result"
    }
   ],
   "source": [
    "dataMA.head()"
   ]
  },
  {
   "cell_type": "code",
   "execution_count": 15,
   "metadata": {},
   "outputs": [],
   "source": [
    "def df_to_np(dataframe,shuffle=True,batch_size=32,target=\"HHVEHCNT\"):\n",
    "    dataframe = dataframe.copy()\n",
    "    labels = dataframe.pop(target)\n",
    "    return dataframe.values, labels.values"
   ]
  },
  {
   "cell_type": "code",
   "execution_count": 16,
   "metadata": {},
   "outputs": [
    {
     "name": "stdout",
     "output_type": "stream",
     "text": [
      "(3211, 16)\n",
      "(3211,)\n"
     ]
    }
   ],
   "source": [
    "train_X, train_y = df_to_np(dataMA)\n",
    "print(train_X.shape)\n",
    "print(train_y.shape)"
   ]
  },
  {
   "cell_type": "code",
   "execution_count": 22,
   "metadata": {},
   "outputs": [
    {
     "name": "stdout",
     "output_type": "stream",
     "text": [
      "Train on 2568 samples, validate on 643 samples\n",
      "Epoch 1/5\n",
      "2568/2568 [==============================] - 1s 298us/sample - loss: 1.0790 - accuracy: 0.5467 - val_loss: 1.0377 - val_accuracy: 0.5645\n",
      "Epoch 2/5\n",
      "2568/2568 [==============================] - 0s 63us/sample - loss: 0.8709 - accuracy: 0.6569 - val_loss: 1.0372 - val_accuracy: 0.4883\n",
      "Epoch 3/5\n",
      "2568/2568 [==============================] - 0s 53us/sample - loss: 0.8093 - accuracy: 0.6873 - val_loss: 1.0414 - val_accuracy: 0.5381\n",
      "Epoch 4/5\n",
      "2568/2568 [==============================] - 0s 45us/sample - loss: 0.7726 - accuracy: 0.6963 - val_loss: 1.0550 - val_accuracy: 0.5630\n",
      "Epoch 5/5\n",
      "2568/2568 [==============================] - 0s 43us/sample - loss: 0.7430 - accuracy: 0.7056 - val_loss: 1.1250 - val_accuracy: 0.5505\n"
     ]
    },
    {
     "data": {
      "text/plain": [
       "<tensorflow.python.keras.callbacks.History at 0x1a3a0fca20>"
      ]
     },
     "execution_count": 22,
     "metadata": {},
     "output_type": "execute_result"
    }
   ],
   "source": [
    "model = tf.keras.Sequential([\n",
    "  tf.keras.layers.Dense(128,activation=\"relu\"),\n",
    "  tf.keras.layers.Dense(128),\n",
    "  #tf.keras.layers.Dropout(0.5),\n",
    "  tf.keras.layers.Dense(128),\n",
    "  #tf.keras.layers.Dropout(0.5),\n",
    "  tf.keras.layers.Dense(128),\n",
    "  tf.keras.layers.Dense(64,activation=\"relu\"),\n",
    "  tf.keras.layers.Dense(4,activation=\"softmax\")\n",
    "])\n",
    "\n",
    "model.compile(optimizer='adam',\n",
    "              loss='sparse_categorical_crossentropy',\n",
    "              metrics=['accuracy'])\n",
    "\n",
    "model.fit(x=train_X, y = train_y,epochs=5, batch_size = 100, validation_split=0.2, shuffle=True)"
   ]
  },
  {
   "cell_type": "code",
   "execution_count": null,
   "metadata": {},
   "outputs": [],
   "source": []
  }
 ],
 "metadata": {
  "kernelspec": {
   "display_name": "Python 3",
   "language": "python",
   "name": "python3"
  },
  "language_info": {
   "codemirror_mode": {
    "name": "ipython",
    "version": 3
   },
   "file_extension": ".py",
   "mimetype": "text/x-python",
   "name": "python",
   "nbconvert_exporter": "python",
   "pygments_lexer": "ipython3",
   "version": "3.6.8"
  }
 },
 "nbformat": 4,
 "nbformat_minor": 2
}
