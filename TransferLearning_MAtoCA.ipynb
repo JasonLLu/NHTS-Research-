{
 "cells": [
  {
   "cell_type": "code",
   "execution_count": 1,
   "metadata": {},
   "outputs": [],
   "source": [
    "import tensorflow as tf\n",
    "from tensorflow import feature_column\n",
    "from tensorflow.keras import layers\n",
    "#tf.enable_eager_execution()\n",
    "import pandas as pd\n",
    "from sklearn.model_selection import train_test_split\n",
    "from sklearn import preprocessing\n",
    "import numpy as np\n",
    "import pickle"
   ]
  },
  {
   "cell_type": "code",
   "execution_count": 2,
   "metadata": {},
   "outputs": [],
   "source": [
    "with open('encodedStates.pickle', 'rb') as handle:\n",
    "    data = pickle.load(handle)"
   ]
  },
  {
   "cell_type": "code",
   "execution_count": 3,
   "metadata": {},
   "outputs": [],
   "source": [
    "dataMA = data[\"MA\"]"
   ]
  },
  {
   "cell_type": "code",
   "execution_count": 4,
   "metadata": {},
   "outputs": [
    {
     "data": {
      "text/html": [
       "<div>\n",
       "<style scoped>\n",
       "    .dataframe tbody tr th:only-of-type {\n",
       "        vertical-align: middle;\n",
       "    }\n",
       "\n",
       "    .dataframe tbody tr th {\n",
       "        vertical-align: top;\n",
       "    }\n",
       "\n",
       "    .dataframe thead th {\n",
       "        text-align: right;\n",
       "    }\n",
       "</style>\n",
       "<table border=\"1\" class=\"dataframe\">\n",
       "  <thead>\n",
       "    <tr style=\"text-align: right;\">\n",
       "      <th></th>\n",
       "      <th>HHSIZE</th>\n",
       "      <th>HHVEHCNT</th>\n",
       "      <th>DRIVER_0</th>\n",
       "      <th>DRIVER_1</th>\n",
       "      <th>EDUC_1</th>\n",
       "      <th>EDUC_2</th>\n",
       "      <th>EDUC_3</th>\n",
       "      <th>EDUC_4</th>\n",
       "      <th>EDUC_5</th>\n",
       "      <th>URBANSIZE_1</th>\n",
       "      <th>URBANSIZE_2</th>\n",
       "      <th>URBANSIZE_3</th>\n",
       "      <th>URBANSIZE_4</th>\n",
       "      <th>URBANSIZE_5</th>\n",
       "      <th>URBANSIZE_6</th>\n",
       "      <th>URBRUR_1</th>\n",
       "      <th>URBRUR_2</th>\n",
       "    </tr>\n",
       "  </thead>\n",
       "  <tbody>\n",
       "    <tr>\n",
       "      <th>0</th>\n",
       "      <td>0.899427</td>\n",
       "      <td>1</td>\n",
       "      <td>0</td>\n",
       "      <td>1</td>\n",
       "      <td>0</td>\n",
       "      <td>0</td>\n",
       "      <td>0</td>\n",
       "      <td>1</td>\n",
       "      <td>0</td>\n",
       "      <td>0</td>\n",
       "      <td>0</td>\n",
       "      <td>0</td>\n",
       "      <td>0</td>\n",
       "      <td>1</td>\n",
       "      <td>0</td>\n",
       "      <td>1</td>\n",
       "      <td>0</td>\n",
       "    </tr>\n",
       "    <tr>\n",
       "      <th>1</th>\n",
       "      <td>0.899427</td>\n",
       "      <td>1</td>\n",
       "      <td>0</td>\n",
       "      <td>1</td>\n",
       "      <td>0</td>\n",
       "      <td>0</td>\n",
       "      <td>0</td>\n",
       "      <td>1</td>\n",
       "      <td>0</td>\n",
       "      <td>0</td>\n",
       "      <td>0</td>\n",
       "      <td>0</td>\n",
       "      <td>0</td>\n",
       "      <td>1</td>\n",
       "      <td>0</td>\n",
       "      <td>1</td>\n",
       "      <td>0</td>\n",
       "    </tr>\n",
       "    <tr>\n",
       "      <th>2</th>\n",
       "      <td>0.899427</td>\n",
       "      <td>1</td>\n",
       "      <td>0</td>\n",
       "      <td>1</td>\n",
       "      <td>0</td>\n",
       "      <td>0</td>\n",
       "      <td>0</td>\n",
       "      <td>1</td>\n",
       "      <td>0</td>\n",
       "      <td>0</td>\n",
       "      <td>0</td>\n",
       "      <td>0</td>\n",
       "      <td>0</td>\n",
       "      <td>1</td>\n",
       "      <td>0</td>\n",
       "      <td>1</td>\n",
       "      <td>0</td>\n",
       "    </tr>\n",
       "    <tr>\n",
       "      <th>3</th>\n",
       "      <td>0.899427</td>\n",
       "      <td>1</td>\n",
       "      <td>0</td>\n",
       "      <td>1</td>\n",
       "      <td>0</td>\n",
       "      <td>0</td>\n",
       "      <td>0</td>\n",
       "      <td>1</td>\n",
       "      <td>0</td>\n",
       "      <td>0</td>\n",
       "      <td>0</td>\n",
       "      <td>0</td>\n",
       "      <td>0</td>\n",
       "      <td>1</td>\n",
       "      <td>0</td>\n",
       "      <td>1</td>\n",
       "      <td>0</td>\n",
       "    </tr>\n",
       "    <tr>\n",
       "      <th>4</th>\n",
       "      <td>1.798855</td>\n",
       "      <td>1</td>\n",
       "      <td>0</td>\n",
       "      <td>1</td>\n",
       "      <td>0</td>\n",
       "      <td>0</td>\n",
       "      <td>1</td>\n",
       "      <td>0</td>\n",
       "      <td>0</td>\n",
       "      <td>0</td>\n",
       "      <td>0</td>\n",
       "      <td>0</td>\n",
       "      <td>0</td>\n",
       "      <td>1</td>\n",
       "      <td>0</td>\n",
       "      <td>1</td>\n",
       "      <td>0</td>\n",
       "    </tr>\n",
       "  </tbody>\n",
       "</table>\n",
       "</div>"
      ],
      "text/plain": [
       "     HHSIZE  HHVEHCNT  DRIVER_0  DRIVER_1  EDUC_1  EDUC_2  EDUC_3  EDUC_4  \\\n",
       "0  0.899427         1         0         1       0       0       0       1   \n",
       "1  0.899427         1         0         1       0       0       0       1   \n",
       "2  0.899427         1         0         1       0       0       0       1   \n",
       "3  0.899427         1         0         1       0       0       0       1   \n",
       "4  1.798855         1         0         1       0       0       1       0   \n",
       "\n",
       "   EDUC_5  URBANSIZE_1  URBANSIZE_2  URBANSIZE_3  URBANSIZE_4  URBANSIZE_5  \\\n",
       "0       0            0            0            0            0            1   \n",
       "1       0            0            0            0            0            1   \n",
       "2       0            0            0            0            0            1   \n",
       "3       0            0            0            0            0            1   \n",
       "4       0            0            0            0            0            1   \n",
       "\n",
       "   URBANSIZE_6  URBRUR_1  URBRUR_2  \n",
       "0            0         1         0  \n",
       "1            0         1         0  \n",
       "2            0         1         0  \n",
       "3            0         1         0  \n",
       "4            0         1         0  "
      ]
     },
     "execution_count": 4,
     "metadata": {},
     "output_type": "execute_result"
    }
   ],
   "source": [
    "dataMA.head()"
   ]
  },
  {
   "cell_type": "code",
   "execution_count": 5,
   "metadata": {},
   "outputs": [],
   "source": [
    "def df_to_np(dataframe,shuffle=True,batch_size=32,target=\"HHVEHCNT\"):\n",
    "    dataframe = dataframe.copy()\n",
    "    labels = dataframe.pop(target)\n",
    "    return dataframe.values, labels.values"
   ]
  },
  {
   "cell_type": "code",
   "execution_count": 6,
   "metadata": {},
   "outputs": [
    {
     "ename": "NameError",
     "evalue": "name 'train_X' is not defined",
     "output_type": "error",
     "traceback": [
      "\u001b[0;31m---------------------------------------------------------------------------\u001b[0m",
      "\u001b[0;31mNameError\u001b[0m                                 Traceback (most recent call last)",
      "\u001b[0;32m<ipython-input-6-0dce04e5e0bd>\u001b[0m in \u001b[0;36m<module>\u001b[0;34m\u001b[0m\n\u001b[1;32m      1\u001b[0m \u001b[0mtrain_X_MA\u001b[0m\u001b[0;34m,\u001b[0m \u001b[0mtrain_y_MA\u001b[0m \u001b[0;34m=\u001b[0m \u001b[0mdf_to_np\u001b[0m\u001b[0;34m(\u001b[0m\u001b[0mdataMA\u001b[0m\u001b[0;34m)\u001b[0m\u001b[0;34m\u001b[0m\u001b[0;34m\u001b[0m\u001b[0m\n\u001b[0;32m----> 2\u001b[0;31m \u001b[0mprint\u001b[0m\u001b[0;34m(\u001b[0m\u001b[0mtrain_X\u001b[0m\u001b[0;34m.\u001b[0m\u001b[0mshape\u001b[0m\u001b[0;34m)\u001b[0m\u001b[0;34m\u001b[0m\u001b[0;34m\u001b[0m\u001b[0m\n\u001b[0m\u001b[1;32m      3\u001b[0m \u001b[0mprint\u001b[0m\u001b[0;34m(\u001b[0m\u001b[0mtrain_y\u001b[0m\u001b[0;34m.\u001b[0m\u001b[0mshape\u001b[0m\u001b[0;34m)\u001b[0m\u001b[0;34m\u001b[0m\u001b[0;34m\u001b[0m\u001b[0m\n",
      "\u001b[0;31mNameError\u001b[0m: name 'train_X' is not defined"
     ]
    }
   ],
   "source": [
    "train_X_MA, train_y_MA = df_to_np(dataMA)\n",
    "print(train_X.shape)\n",
    "print(train_y.shape)"
   ]
  },
  {
   "cell_type": "code",
   "execution_count": 17,
   "metadata": {},
   "outputs": [
    {
     "name": "stdout",
     "output_type": "stream",
     "text": [
      "Train on 2568 samples, validate on 643 samples\n",
      "Epoch 1/5\n",
      "2568/2568 [==============================] - 1s 386us/sample - loss: 1.0884 - accuracy: 0.5276 - val_loss: 1.0827 - val_accuracy: 0.5334\n",
      "Epoch 2/5\n",
      "2568/2568 [==============================] - 0s 46us/sample - loss: 0.8827 - accuracy: 0.6488 - val_loss: 1.0259 - val_accuracy: 0.5956\n",
      "Epoch 3/5\n",
      "2568/2568 [==============================] - 0s 45us/sample - loss: 0.8026 - accuracy: 0.6994 - val_loss: 1.0131 - val_accuracy: 0.5941\n",
      "Epoch 4/5\n",
      "2568/2568 [==============================] - 0s 47us/sample - loss: 0.7676 - accuracy: 0.6963 - val_loss: 1.0886 - val_accuracy: 0.5723\n",
      "Epoch 5/5\n",
      "2568/2568 [==============================] - 0s 46us/sample - loss: 0.7491 - accuracy: 0.6955 - val_loss: 1.1207 - val_accuracy: 0.5754\n"
     ]
    },
    {
     "data": {
      "text/plain": [
       "<tensorflow.python.keras.callbacks.History at 0x1a42b824a8>"
      ]
     },
     "execution_count": 17,
     "metadata": {},
     "output_type": "execute_result"
    }
   ],
   "source": [
    "modelMA = tf.keras.Sequential([\n",
    "  tf.keras.layers.Dense(128,activation=\"relu\"),\n",
    "  #tf.keras.layers.Dropout(0.5),\n",
    "  tf.keras.layers.Dense(128),\n",
    "  #tf.keras.layers.Dropout(0.5),\n",
    "  tf.keras.layers.Dense(128),\n",
    "  #tf.keras.layers.Dropout(0.5),\n",
    "  tf.keras.layers.Dense(128),\n",
    "  #tf.keras.layers.Dropout(0.5),\n",
    "  tf.keras.layers.Dense(64,activation=\"relu\"),\n",
    "  tf.keras.layers.Dense(4,activation=\"softmax\")\n",
    "])\n",
    "\n",
    "modelMA.compile(optimizer='adam',\n",
    "              loss='sparse_categorical_crossentropy',\n",
    "              metrics=['accuracy'])\n",
    "\n",
    "modelMA.fit(x=train_X_MA, y = train_y_MA,epochs=5, batch_size = 100, validation_split=0.2, shuffle=True)"
   ]
  },
  {
   "cell_type": "code",
   "execution_count": 18,
   "metadata": {},
   "outputs": [
    {
     "data": {
      "text/plain": [
       "[array([[ 0.09433921,  0.08552001, -0.03757235, ...,  0.17129667,\n",
       "          0.03284126,  0.17968664],\n",
       "        [ 0.00313148,  0.03992483,  0.12608412, ...,  0.01377496,\n",
       "          0.06328232, -0.14373073],\n",
       "        [ 0.10520969, -0.10832182,  0.08575378, ..., -0.06956522,\n",
       "         -0.0376166 ,  0.17335953],\n",
       "        ...,\n",
       "        [-0.09595936,  0.03563687,  0.11502886, ..., -0.14083865,\n",
       "          0.03889039,  0.04302691],\n",
       "        [ 0.07176542, -0.16873108, -0.1302721 , ..., -0.18778199,\n",
       "          0.03311263, -0.13192686],\n",
       "        [-0.20638433, -0.08180811,  0.12548278, ..., -0.02919368,\n",
       "         -0.01461214, -0.01296339]], dtype=float32),\n",
       " array([-0.00753754,  0.0070127 ,  0.02250249, -0.00757921, -0.01285502,\n",
       "        -0.01073427,  0.01954687,  0.01350116,  0.01941331,  0.00048144,\n",
       "         0.01918793,  0.        , -0.00564363,  0.03385548,  0.03471511,\n",
       "        -0.00145573,  0.01093077,  0.01181996,  0.0130202 ,  0.00949713,\n",
       "        -0.00919257,  0.0046165 ,  0.01635824,  0.00117564, -0.00697652,\n",
       "         0.02313859, -0.00265307,  0.01207214,  0.00777349,  0.02092617,\n",
       "         0.0223271 ,  0.02024172,  0.02318333, -0.02897785, -0.01145355,\n",
       "         0.03854195,  0.01866986, -0.00151533,  0.01636167, -0.00847768,\n",
       "        -0.00858977,  0.04393317,  0.00192769, -0.00901368,  0.02633456,\n",
       "        -0.00231078,  0.00546762,  0.02038296, -0.0133008 , -0.00432548,\n",
       "        -0.01386622, -0.00651046,  0.00372082, -0.01023513, -0.00573756,\n",
       "         0.00197785,  0.00661335, -0.0076016 ,  0.00442549, -0.00656828,\n",
       "         0.00843789, -0.00213163, -0.01674061, -0.01039742, -0.00653146,\n",
       "        -0.00482293,  0.02493943,  0.        , -0.00824043, -0.0180191 ,\n",
       "         0.01137641, -0.00407213, -0.00382396,  0.00669348,  0.00032211,\n",
       "         0.00391858, -0.01556985, -0.00538026,  0.01110875,  0.00588615,\n",
       "         0.02522431, -0.00871101,  0.01380726,  0.04573927,  0.0061401 ,\n",
       "         0.02957634, -0.00688863, -0.01464599,  0.02404623,  0.03442648,\n",
       "        -0.00202327, -0.00809981, -0.01906509,  0.01251756,  0.        ,\n",
       "        -0.00359197,  0.01003978, -0.00762922,  0.01298057,  0.01745375,\n",
       "        -0.00621544,  0.05409491,  0.00752227, -0.00692001, -0.00341875,\n",
       "        -0.01322734,  0.01210814,  0.00851855,  0.00988969,  0.00329487,\n",
       "        -0.01762668, -0.00621393,  0.00517327,  0.02160536,  0.01238135,\n",
       "        -0.01470594, -0.01254129, -0.01016599,  0.02491031,  0.01138458,\n",
       "         0.00409342,  0.0231775 , -0.00199309,  0.01413051,  0.03905772,\n",
       "        -0.01078865,  0.00262703,  0.01259845], dtype=float32)]"
      ]
     },
     "execution_count": 18,
     "metadata": {},
     "output_type": "execute_result"
    }
   ],
   "source": [
    "weightsMA_0 = modelMA.layers[0].get_weights()\n",
    "weightsMA_0"
   ]
  },
  {
   "cell_type": "code",
   "execution_count": 9,
   "metadata": {},
   "outputs": [
    {
     "data": {
      "text/html": [
       "<div>\n",
       "<style scoped>\n",
       "    .dataframe tbody tr th:only-of-type {\n",
       "        vertical-align: middle;\n",
       "    }\n",
       "\n",
       "    .dataframe tbody tr th {\n",
       "        vertical-align: top;\n",
       "    }\n",
       "\n",
       "    .dataframe thead th {\n",
       "        text-align: right;\n",
       "    }\n",
       "</style>\n",
       "<table border=\"1\" class=\"dataframe\">\n",
       "  <thead>\n",
       "    <tr style=\"text-align: right;\">\n",
       "      <th></th>\n",
       "      <th>HHSIZE</th>\n",
       "      <th>HHVEHCNT</th>\n",
       "      <th>DRIVER_0</th>\n",
       "      <th>DRIVER_1</th>\n",
       "      <th>EDUC_1</th>\n",
       "      <th>EDUC_2</th>\n",
       "      <th>EDUC_3</th>\n",
       "      <th>EDUC_4</th>\n",
       "      <th>EDUC_5</th>\n",
       "      <th>URBANSIZE_1</th>\n",
       "      <th>URBANSIZE_2</th>\n",
       "      <th>URBANSIZE_3</th>\n",
       "      <th>URBANSIZE_4</th>\n",
       "      <th>URBANSIZE_5</th>\n",
       "      <th>URBANSIZE_6</th>\n",
       "      <th>URBRUR_1</th>\n",
       "      <th>URBRUR_2</th>\n",
       "    </tr>\n",
       "  </thead>\n",
       "  <tbody>\n",
       "    <tr>\n",
       "      <th>0</th>\n",
       "      <td>1.533065</td>\n",
       "      <td>2</td>\n",
       "      <td>0</td>\n",
       "      <td>1</td>\n",
       "      <td>0</td>\n",
       "      <td>0</td>\n",
       "      <td>0</td>\n",
       "      <td>0</td>\n",
       "      <td>1</td>\n",
       "      <td>0</td>\n",
       "      <td>1</td>\n",
       "      <td>0</td>\n",
       "      <td>0</td>\n",
       "      <td>0</td>\n",
       "      <td>0</td>\n",
       "      <td>1</td>\n",
       "      <td>0</td>\n",
       "    </tr>\n",
       "    <tr>\n",
       "      <th>1</th>\n",
       "      <td>1.533065</td>\n",
       "      <td>2</td>\n",
       "      <td>0</td>\n",
       "      <td>1</td>\n",
       "      <td>0</td>\n",
       "      <td>0</td>\n",
       "      <td>0</td>\n",
       "      <td>0</td>\n",
       "      <td>1</td>\n",
       "      <td>0</td>\n",
       "      <td>1</td>\n",
       "      <td>0</td>\n",
       "      <td>0</td>\n",
       "      <td>0</td>\n",
       "      <td>0</td>\n",
       "      <td>1</td>\n",
       "      <td>0</td>\n",
       "    </tr>\n",
       "    <tr>\n",
       "      <th>2</th>\n",
       "      <td>1.533065</td>\n",
       "      <td>2</td>\n",
       "      <td>0</td>\n",
       "      <td>1</td>\n",
       "      <td>1</td>\n",
       "      <td>0</td>\n",
       "      <td>0</td>\n",
       "      <td>0</td>\n",
       "      <td>0</td>\n",
       "      <td>0</td>\n",
       "      <td>1</td>\n",
       "      <td>0</td>\n",
       "      <td>0</td>\n",
       "      <td>0</td>\n",
       "      <td>0</td>\n",
       "      <td>1</td>\n",
       "      <td>0</td>\n",
       "    </tr>\n",
       "    <tr>\n",
       "      <th>3</th>\n",
       "      <td>1.533065</td>\n",
       "      <td>2</td>\n",
       "      <td>0</td>\n",
       "      <td>1</td>\n",
       "      <td>1</td>\n",
       "      <td>0</td>\n",
       "      <td>0</td>\n",
       "      <td>0</td>\n",
       "      <td>0</td>\n",
       "      <td>0</td>\n",
       "      <td>1</td>\n",
       "      <td>0</td>\n",
       "      <td>0</td>\n",
       "      <td>0</td>\n",
       "      <td>0</td>\n",
       "      <td>1</td>\n",
       "      <td>0</td>\n",
       "    </tr>\n",
       "    <tr>\n",
       "      <th>4</th>\n",
       "      <td>1.533065</td>\n",
       "      <td>2</td>\n",
       "      <td>0</td>\n",
       "      <td>1</td>\n",
       "      <td>1</td>\n",
       "      <td>0</td>\n",
       "      <td>0</td>\n",
       "      <td>0</td>\n",
       "      <td>0</td>\n",
       "      <td>0</td>\n",
       "      <td>1</td>\n",
       "      <td>0</td>\n",
       "      <td>0</td>\n",
       "      <td>0</td>\n",
       "      <td>0</td>\n",
       "      <td>1</td>\n",
       "      <td>0</td>\n",
       "    </tr>\n",
       "  </tbody>\n",
       "</table>\n",
       "</div>"
      ],
      "text/plain": [
       "     HHSIZE  HHVEHCNT  DRIVER_0  DRIVER_1  EDUC_1  EDUC_2  EDUC_3  EDUC_4  \\\n",
       "0  1.533065         2         0         1       0       0       0       0   \n",
       "1  1.533065         2         0         1       0       0       0       0   \n",
       "2  1.533065         2         0         1       1       0       0       0   \n",
       "3  1.533065         2         0         1       1       0       0       0   \n",
       "4  1.533065         2         0         1       1       0       0       0   \n",
       "\n",
       "   EDUC_5  URBANSIZE_1  URBANSIZE_2  URBANSIZE_3  URBANSIZE_4  URBANSIZE_5  \\\n",
       "0       1            0            1            0            0            0   \n",
       "1       1            0            1            0            0            0   \n",
       "2       0            0            1            0            0            0   \n",
       "3       0            0            1            0            0            0   \n",
       "4       0            0            1            0            0            0   \n",
       "\n",
       "   URBANSIZE_6  URBRUR_1  URBRUR_2  \n",
       "0            0         1         0  \n",
       "1            0         1         0  \n",
       "2            0         1         0  \n",
       "3            0         1         0  \n",
       "4            0         1         0  "
      ]
     },
     "execution_count": 9,
     "metadata": {},
     "output_type": "execute_result"
    }
   ],
   "source": [
    "dataCA = data[\"CA\"]\n",
    "dataCA.head()"
   ]
  },
  {
   "cell_type": "code",
   "execution_count": 19,
   "metadata": {},
   "outputs": [
    {
     "name": "stdout",
     "output_type": "stream",
     "text": [
      "(155992, 16)\n",
      "(155992,)\n"
     ]
    }
   ],
   "source": [
    "train_X_CA, train_y_CA = df_to_np(dataCA)\n",
    "print(train_X_CA.shape)\n",
    "print(train_y_CA.shape)"
   ]
  },
  {
   "cell_type": "code",
   "execution_count": 20,
   "metadata": {},
   "outputs": [
    {
     "name": "stdout",
     "output_type": "stream",
     "text": [
      "Train on 124793 samples, validate on 31199 samples\n",
      "Epoch 1/5\n",
      "124793/124793 [==============================] - 3s 26us/sample - loss: 0.9609 - accuracy: 0.5602 - val_loss: 0.9292 - val_accuracy: 0.5809\n",
      "Epoch 2/5\n",
      "124793/124793 [==============================] - 2s 14us/sample - loss: 0.9118 - accuracy: 0.5854 - val_loss: 0.9264 - val_accuracy: 0.5805\n",
      "Epoch 3/5\n",
      "124793/124793 [==============================] - 2s 13us/sample - loss: 0.9107 - accuracy: 0.5867 - val_loss: 0.9289 - val_accuracy: 0.5776\n",
      "Epoch 4/5\n",
      "124793/124793 [==============================] - 1s 12us/sample - loss: 0.9096 - accuracy: 0.5889 - val_loss: 0.9380 - val_accuracy: 0.5684\n",
      "Epoch 5/5\n",
      "124793/124793 [==============================] - 2s 14us/sample - loss: 0.9068 - accuracy: 0.5909 - val_loss: 0.9268 - val_accuracy: 0.5871\n"
     ]
    },
    {
     "data": {
      "text/plain": [
       "<tensorflow.python.keras.callbacks.History at 0x1a437b9128>"
      ]
     },
     "execution_count": 20,
     "metadata": {},
     "output_type": "execute_result"
    }
   ],
   "source": [
    "modelCA_benchmark = tf.keras.Sequential([\n",
    "  tf.keras.layers.Dense(128,activation=\"relu\"), \n",
    "  #tf.keras.layers.Dropout(0.5),\n",
    "  tf.keras.layers.Dense(128),\n",
    "  #tf.keras.layers.Dropout(0.5),\n",
    "  tf.keras.layers.Dense(128),\n",
    "  #tf.keras.layers.Dropout(0.5),\n",
    "  tf.keras.layers.Dense(128),\n",
    "  #tf.keras.layers.Dropout(0.5),\n",
    "  tf.keras.layers.Dense(64,activation=\"relu\"),\n",
    "  tf.keras.layers.Dense(4,activation=\"softmax\")\n",
    "])\n",
    "\n",
    "modelCA_benchmark.compile(optimizer='adam',\n",
    "              loss='sparse_categorical_crossentropy',\n",
    "              metrics=['accuracy'])\n",
    "\n",
    "modelCA_benchmark.fit(x=train_X_CA, y = train_y_CA,epochs=5, batch_size = 1000, validation_split=0.2, shuffle=True)"
   ]
  },
  {
   "cell_type": "code",
   "execution_count": 21,
   "metadata": {},
   "outputs": [
    {
     "data": {
      "text/plain": [
       "array([[ 0.10642939, -0.05683518, -0.01366784, ..., -0.04643035,\n",
       "         0.03741837, -0.17249231],\n",
       "       [-0.24054039,  0.01373343, -0.24907263, ..., -0.1823448 ,\n",
       "        -0.13559876, -0.16246088],\n",
       "       [ 0.10646435,  0.00345892,  0.12632295, ...,  0.10338854,\n",
       "         0.13297673,  0.17224425],\n",
       "       ...,\n",
       "       [-0.03930989, -0.18258093,  0.0304897 , ..., -0.00868373,\n",
       "        -0.10267913,  0.17081751],\n",
       "       [ 0.09013441, -0.04432919,  0.16407707, ..., -0.17009301,\n",
       "         0.00287837, -0.12425587],\n",
       "       [-0.0241148 ,  0.05180383, -0.11953254, ...,  0.00742468,\n",
       "         0.12014724, -0.06619374]], dtype=float32)"
      ]
     },
     "execution_count": 21,
     "metadata": {},
     "output_type": "execute_result"
    }
   ],
   "source": [
    "modelCA_benchmark.layers[0].get_weights()[0]"
   ]
  },
  {
   "cell_type": "code",
   "execution_count": 22,
   "metadata": {},
   "outputs": [
    {
     "name": "stdout",
     "output_type": "stream",
     "text": [
      "Train on 124793 samples, validate on 31199 samples\n",
      "Epoch 1/5\n",
      "124793/124793 [==============================] - 2s 14us/sample - loss: 0.9542 - accuracy: 0.5608 - val_loss: 0.9322 - val_accuracy: 0.5794\n",
      "Epoch 2/5\n",
      "124793/124793 [==============================] - 1s 10us/sample - loss: 0.9157 - accuracy: 0.5850 - val_loss: 0.9374 - val_accuracy: 0.5658\n",
      "Epoch 3/5\n",
      "124793/124793 [==============================] - 1s 9us/sample - loss: 0.9130 - accuracy: 0.5866 - val_loss: 0.9304 - val_accuracy: 0.5836\n",
      "Epoch 4/5\n",
      "124793/124793 [==============================] - 1s 10us/sample - loss: 0.9112 - accuracy: 0.5888 - val_loss: 0.9252 - val_accuracy: 0.5865\n",
      "Epoch 5/5\n",
      "124793/124793 [==============================] - 1s 11us/sample - loss: 0.9097 - accuracy: 0.5891 - val_loss: 0.9273 - val_accuracy: 0.5854\n"
     ]
    },
    {
     "data": {
      "text/plain": [
       "<tensorflow.python.keras.callbacks.History at 0x1a436a3b38>"
      ]
     },
     "execution_count": 22,
     "metadata": {},
     "output_type": "execute_result"
    }
   ],
   "source": [
    "modelCA_frozenTransfer = tf.keras.Sequential([\n",
    "  tf.keras.layers.Dense(128,activation=\"relu\", weights = weightsMA_0, trainable = False), \n",
    "  #tf.keras.layers.Dropout(0.5),\n",
    "  tf.keras.layers.Dense(128),\n",
    "  #tf.keras.layers.Dropout(0.5),\n",
    "  tf.keras.layers.Dense(128),\n",
    "  #tf.keras.layers.Dropout(0.5),\n",
    "  tf.keras.layers.Dense(128),\n",
    "  #tf.keras.layers.Dropout(0.5),\n",
    "  tf.keras.layers.Dense(64,activation=\"relu\"),\n",
    "  tf.keras.layers.Dense(4,activation=\"softmax\")\n",
    "])\n",
    "\n",
    "modelCA_frozenTransfer.compile(optimizer='adam',\n",
    "              loss='sparse_categorical_crossentropy',\n",
    "              metrics=['accuracy'])\n",
    "\n",
    "modelCA_frozenTransfer.fit(x=train_X_CA, y = train_y_CA,epochs=5, batch_size = 1000, validation_split=0.2, shuffle=True)"
   ]
  },
  {
   "cell_type": "code",
   "execution_count": 23,
   "metadata": {},
   "outputs": [
    {
     "data": {
      "text/plain": [
       "[array([[ 0.09433921,  0.08552001, -0.03757235, ...,  0.17129667,\n",
       "          0.03284126,  0.17968664],\n",
       "        [ 0.00313148,  0.03992483,  0.12608412, ...,  0.01377496,\n",
       "          0.06328232, -0.14373073],\n",
       "        [ 0.10520969, -0.10832182,  0.08575378, ..., -0.06956522,\n",
       "         -0.0376166 ,  0.17335953],\n",
       "        ...,\n",
       "        [-0.09595936,  0.03563687,  0.11502886, ..., -0.14083865,\n",
       "          0.03889039,  0.04302691],\n",
       "        [ 0.07176542, -0.16873108, -0.1302721 , ..., -0.18778199,\n",
       "          0.03311263, -0.13192686],\n",
       "        [-0.20638433, -0.08180811,  0.12548278, ..., -0.02919368,\n",
       "         -0.01461214, -0.01296339]], dtype=float32),\n",
       " array([-0.00753754,  0.0070127 ,  0.02250249, -0.00757921, -0.01285502,\n",
       "        -0.01073427,  0.01954687,  0.01350116,  0.01941331,  0.00048144,\n",
       "         0.01918793,  0.        , -0.00564363,  0.03385548,  0.03471511,\n",
       "        -0.00145573,  0.01093077,  0.01181996,  0.0130202 ,  0.00949713,\n",
       "        -0.00919257,  0.0046165 ,  0.01635824,  0.00117564, -0.00697652,\n",
       "         0.02313859, -0.00265307,  0.01207214,  0.00777349,  0.02092617,\n",
       "         0.0223271 ,  0.02024172,  0.02318333, -0.02897785, -0.01145355,\n",
       "         0.03854195,  0.01866986, -0.00151533,  0.01636167, -0.00847768,\n",
       "        -0.00858977,  0.04393317,  0.00192769, -0.00901368,  0.02633456,\n",
       "        -0.00231078,  0.00546762,  0.02038296, -0.0133008 , -0.00432548,\n",
       "        -0.01386622, -0.00651046,  0.00372082, -0.01023513, -0.00573756,\n",
       "         0.00197785,  0.00661335, -0.0076016 ,  0.00442549, -0.00656828,\n",
       "         0.00843789, -0.00213163, -0.01674061, -0.01039742, -0.00653146,\n",
       "        -0.00482293,  0.02493943,  0.        , -0.00824043, -0.0180191 ,\n",
       "         0.01137641, -0.00407213, -0.00382396,  0.00669348,  0.00032211,\n",
       "         0.00391858, -0.01556985, -0.00538026,  0.01110875,  0.00588615,\n",
       "         0.02522431, -0.00871101,  0.01380726,  0.04573927,  0.0061401 ,\n",
       "         0.02957634, -0.00688863, -0.01464599,  0.02404623,  0.03442648,\n",
       "        -0.00202327, -0.00809981, -0.01906509,  0.01251756,  0.        ,\n",
       "        -0.00359197,  0.01003978, -0.00762922,  0.01298057,  0.01745375,\n",
       "        -0.00621544,  0.05409491,  0.00752227, -0.00692001, -0.00341875,\n",
       "        -0.01322734,  0.01210814,  0.00851855,  0.00988969,  0.00329487,\n",
       "        -0.01762668, -0.00621393,  0.00517327,  0.02160536,  0.01238135,\n",
       "        -0.01470594, -0.01254129, -0.01016599,  0.02491031,  0.01138458,\n",
       "         0.00409342,  0.0231775 , -0.00199309,  0.01413051,  0.03905772,\n",
       "        -0.01078865,  0.00262703,  0.01259845], dtype=float32)]"
      ]
     },
     "execution_count": 23,
     "metadata": {},
     "output_type": "execute_result"
    }
   ],
   "source": [
    "modelCA_frozenTransfer.layers[0].get_weights()"
   ]
  },
  {
   "cell_type": "code",
   "execution_count": 24,
   "metadata": {},
   "outputs": [
    {
     "name": "stdout",
     "output_type": "stream",
     "text": [
      "Train on 124793 samples, validate on 31199 samples\n",
      "Epoch 1/5\n",
      "124793/124793 [==============================] - 3s 22us/sample - loss: 0.9484 - accuracy: 0.5628 - val_loss: 0.9305 - val_accuracy: 0.5774\n",
      "Epoch 2/5\n",
      "124793/124793 [==============================] - 1s 11us/sample - loss: 0.9140 - accuracy: 0.5851 - val_loss: 0.9309 - val_accuracy: 0.5759\n",
      "Epoch 3/5\n",
      "124793/124793 [==============================] - 1s 10us/sample - loss: 0.9099 - accuracy: 0.5880 - val_loss: 0.9303 - val_accuracy: 0.5766\n",
      "Epoch 4/5\n",
      "124793/124793 [==============================] - 1s 10us/sample - loss: 0.9078 - accuracy: 0.5889 - val_loss: 0.9242 - val_accuracy: 0.5782\n",
      "Epoch 5/5\n",
      "124793/124793 [==============================] - 1s 10us/sample - loss: 0.9063 - accuracy: 0.5901 - val_loss: 0.9303 - val_accuracy: 0.5718\n"
     ]
    },
    {
     "data": {
      "text/plain": [
       "<tensorflow.python.keras.callbacks.History at 0x1a42970400>"
      ]
     },
     "execution_count": 24,
     "metadata": {},
     "output_type": "execute_result"
    }
   ],
   "source": [
    "modelCA_unfrozenTransfer = tf.keras.Sequential([\n",
    "  tf.keras.layers.Dense(128,activation=\"relu\", weights = weightsMA_0, trainable = True), \n",
    "  #tf.keras.layers.Dropout(0.5),\n",
    "  tf.keras.layers.Dense(128),\n",
    "  #tf.keras.layers.Dropout(0.5),\n",
    "  tf.keras.layers.Dense(128),\n",
    "  #tf.keras.layers.Dropout(0.5),\n",
    "  tf.keras.layers.Dense(128),\n",
    "  #tf.keras.layers.Dropout(0.5),\n",
    "  tf.keras.layers.Dense(64,activation=\"relu\"),\n",
    "  tf.keras.layers.Dense(4,activation=\"softmax\")\n",
    "])\n",
    "\n",
    "modelCA_unfrozenTransfer.compile(optimizer='adam',\n",
    "              loss='sparse_categorical_crossentropy',\n",
    "              metrics=['accuracy'])\n",
    "\n",
    "modelCA_unfrozenTransfer.fit(x=train_X_CA, y = train_y_CA,epochs=5, batch_size = 1000, validation_split=0.2, shuffle=True)"
   ]
  },
  {
   "cell_type": "code",
   "execution_count": 25,
   "metadata": {},
   "outputs": [
    {
     "data": {
      "text/plain": [
       "[array([[ 9.50121507e-02,  1.08234435e-01, -2.28928812e-02, ...,\n",
       "          1.57651603e-01,  3.73591781e-02,  1.90145686e-01],\n",
       "        [-4.88574058e-03,  5.15270419e-02,  9.13502127e-02, ...,\n",
       "         -3.05880458e-05,  6.93143979e-02, -1.38573751e-01],\n",
       "        [ 9.03245881e-02, -1.47407636e-01,  9.73863825e-02, ...,\n",
       "         -6.55720755e-02, -3.40857729e-02,  1.72486112e-01],\n",
       "        ...,\n",
       "        [-8.62385109e-02,  6.64089471e-02,  9.31394771e-02, ...,\n",
       "         -1.22892886e-01,  3.69603336e-02,  4.75985110e-02],\n",
       "        [ 5.12960106e-02, -1.83725372e-01, -1.32552683e-01, ...,\n",
       "         -1.87330946e-01,  4.57208417e-02, -1.37012035e-01],\n",
       "        [-1.52422830e-01, -1.43068388e-01,  1.28894165e-01, ...,\n",
       "         -1.37441559e-02, -6.18551187e-02,  3.08667263e-03]], dtype=float32),\n",
       " array([-2.32762061e-02, -2.95924172e-02,  1.96967851e-02, -6.71401946e-03,\n",
       "        -3.75856310e-02, -2.88084801e-02,  2.39935070e-02,  1.29770301e-02,\n",
       "         3.93512771e-02, -1.59190001e-03,  1.74360145e-02,  2.70259585e-02,\n",
       "         2.40630470e-02,  1.17560597e-02,  4.65749539e-02, -2.67561022e-02,\n",
       "         2.67257262e-02,  4.78852587e-03,  1.04731135e-02, -1.17317736e-02,\n",
       "         2.89323227e-03,  1.70516092e-02, -1.10108890e-02,  2.31571291e-02,\n",
       "        -8.28198716e-03,  1.59386974e-02, -1.11101875e-02,  8.66593141e-03,\n",
       "         1.40878130e-02,  8.89098831e-03,  4.60280143e-02,  2.46208645e-02,\n",
       "         3.26643065e-02, -2.59137228e-02, -1.29991556e-02,  2.99349837e-02,\n",
       "         4.59850132e-02, -2.21203528e-02,  2.79517267e-02, -9.12802387e-03,\n",
       "        -1.71636790e-02,  4.68056723e-02, -1.83832403e-02, -3.95536385e-02,\n",
       "         5.92674017e-02, -3.02662593e-05, -2.23945547e-03,  2.89801080e-02,\n",
       "        -1.33007960e-02, -1.56531464e-02, -3.33139822e-02, -1.77161153e-02,\n",
       "        -8.68869666e-03, -2.21245307e-02, -1.05523393e-02, -2.94862036e-02,\n",
       "         1.43393027e-02, -2.63725612e-02, -1.89032611e-02,  9.29877069e-03,\n",
       "         8.99068452e-03, -1.62990056e-02, -6.08437769e-02, -1.83042381e-02,\n",
       "        -4.05463316e-02, -5.35181072e-03,  2.46802010e-02,  0.00000000e+00,\n",
       "        -2.51957551e-02, -2.51208059e-02, -4.44835145e-03, -1.50914984e-02,\n",
       "        -2.90206224e-02, -7.92054087e-03,  3.35173309e-02, -4.41963598e-03,\n",
       "        -2.93829180e-02, -3.20052169e-02,  1.89001039e-02, -2.26907502e-03,\n",
       "         1.60993505e-02, -3.85019481e-02,  1.28220385e-02,  5.18951192e-02,\n",
       "         3.48177180e-02,  6.25874028e-02, -1.05460305e-02, -1.74699686e-02,\n",
       "         1.89715773e-02,  5.41379936e-02, -9.55185108e-03, -1.59325097e-02,\n",
       "        -4.03009579e-02,  1.45527534e-02,  2.66809366e-05, -1.12070274e-02,\n",
       "         1.11775286e-02, -2.03841664e-02,  1.59238055e-02,  2.27149129e-02,\n",
       "        -2.31821537e-02,  6.44156858e-02,  3.09127569e-03, -4.41629589e-02,\n",
       "        -2.52828677e-03, -2.94680391e-02,  4.25394112e-03, -3.43222101e-03,\n",
       "         1.42288301e-03, -5.93337603e-03, -4.09631319e-02,  2.04070192e-02,\n",
       "        -1.38354488e-02,  1.30931875e-02,  2.12700162e-02, -2.01358795e-02,\n",
       "        -3.13124657e-02, -5.64223714e-02,  5.12548164e-02,  2.46657524e-02,\n",
       "         1.36644635e-02,  2.66337544e-02, -6.54322468e-03,  1.40700256e-02,\n",
       "         5.29061891e-02, -7.68644363e-03,  6.91745756e-03,  1.18858209e-02],\n",
       "       dtype=float32)]"
      ]
     },
     "execution_count": 25,
     "metadata": {},
     "output_type": "execute_result"
    }
   ],
   "source": [
    "modelCA_unfrozenTransfer.layers[0].get_weights()"
   ]
  },
  {
   "cell_type": "code",
   "execution_count": null,
   "metadata": {},
   "outputs": [],
   "source": []
  },
  {
   "cell_type": "code",
   "execution_count": null,
   "metadata": {},
   "outputs": [],
   "source": []
  }
 ],
 "metadata": {
  "kernelspec": {
   "display_name": "Python 3",
   "language": "python",
   "name": "python3"
  },
  "language_info": {
   "codemirror_mode": {
    "name": "ipython",
    "version": 3
   },
   "file_extension": ".py",
   "mimetype": "text/x-python",
   "name": "python",
   "nbconvert_exporter": "python",
   "pygments_lexer": "ipython3",
   "version": "3.6.8"
  }
 },
 "nbformat": 4,
 "nbformat_minor": 2
}
