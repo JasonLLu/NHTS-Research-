{
 "cells": [
  {
   "cell_type": "code",
   "execution_count": 1,
   "metadata": {},
   "outputs": [],
   "source": [
    "import tensorflow as tf\n",
    "from tensorflow import feature_column\n",
    "from tensorflow.keras import layers\n",
    "#tf.enable_eager_execution()\n",
    "import pandas as pd\n",
    "from sklearn.model_selection import train_test_split\n",
    "from sklearn import preprocessing\n",
    "import numpy as np\n",
    "import pickle"
   ]
  },
  {
   "cell_type": "code",
   "execution_count": 2,
   "metadata": {},
   "outputs": [],
   "source": [
    "with open('encodedStates.pickle', 'rb') as handle:\n",
    "    data = pickle.load(handle)"
   ]
  },
  {
   "cell_type": "code",
   "execution_count": 5,
   "metadata": {},
   "outputs": [],
   "source": [
    "def df_to_np(dataframe,shuffle=True,batch_size=32,target=\"HHVEHCNT\"):\n",
    "    dataframe = dataframe.copy()\n",
    "    labels = dataframe.pop(target)\n",
    "    return dataframe.values, labels.values"
   ]
  },
  {
   "cell_type": "code",
   "execution_count": 31,
   "metadata": {},
   "outputs": [],
   "source": [
    "class TransferLearn:\n",
    "    \n",
    "    def __init__(self, fromStateData, toStateData):\n",
    "        self.data = data\n",
    "        self.fromState = fromStateData\n",
    "        self.toState = toStateData\n",
    "        \n",
    "        self.train_X_from, self.train_y_from = df_to_np(fromStateData)\n",
    "        self.train_X_to, self.train_y_to = df_to_np(toStateData)\n",
    "    \n",
    "        \n",
    "    def getFromModelWeights(self, batch_size=100, validation_split=0.2, epochs=5):\n",
    "        model = tf.keras.Sequential([\n",
    "          tf.keras.layers.Dense(128,activation=\"relu\"),\n",
    "          tf.keras.layers.Dense(128),\n",
    "          tf.keras.layers.Dense(128),\n",
    "          tf.keras.layers.Dense(128),\n",
    "          tf.keras.layers.Dense(64,activation=\"relu\"),\n",
    "          tf.keras.layers.Dense(4,activation=\"softmax\")\n",
    "        ])\n",
    "\n",
    "        model.compile(optimizer='adam',\n",
    "                      loss='sparse_categorical_crossentropy',\n",
    "                      metrics=['accuracy'])\n",
    "\n",
    "        model.fit(x=self.train_X_from, y = self.train_y_from,epochs=5, batch_size = batch_size, validation_split=validation_split, shuffle=True)\n",
    "        \n",
    "        return model.layers[0].get_weights()\n",
    "    \n",
    "    def transfer(self, weights=None, trainable=True, batch_size=100, validation_split=0.2, epochs=5):\n",
    "        model = tf.keras.Sequential([\n",
    "          tf.keras.layers.Dense(128,activation=\"relu\", weights=weights, trainable=trainable),\n",
    "          tf.keras.layers.Dense(128),\n",
    "          tf.keras.layers.Dense(128),\n",
    "          tf.keras.layers.Dense(128),\n",
    "          tf.keras.layers.Dense(64,activation=\"relu\"),\n",
    "          tf.keras.layers.Dense(4,activation=\"softmax\")\n",
    "        ])\n",
    "        model.compile(optimizer='adam',\n",
    "                      loss='sparse_categorical_crossentropy',\n",
    "                      metrics=['accuracy'])\n",
    "\n",
    "        model.fit(x=self.train_X_to, y = self.train_y_to, epochs=epochs, batch_size = batch_size, validation_split=validation_split, shuffle=True)\n",
    "        \n",
    "        return model\n",
    "    \n",
    "    def compare(self):\n",
    "        pass"
   ]
  },
  {
   "cell_type": "code",
   "execution_count": 32,
   "metadata": {},
   "outputs": [],
   "source": [
    "MA_to_CA = TransferLearn(data[\"MA\"],data[\"CA\"])"
   ]
  },
  {
   "cell_type": "code",
   "execution_count": 33,
   "metadata": {},
   "outputs": [
    {
     "name": "stdout",
     "output_type": "stream",
     "text": [
      "Train on 2568 samples, validate on 643 samples\n",
      "Epoch 1/5\n",
      "2568/2568 [==============================] - 1s 248us/sample - loss: 1.0145 - accuracy: 0.5810 - val_loss: 1.0840 - val_accuracy: 0.5568\n",
      "Epoch 2/5\n",
      "2568/2568 [==============================] - 0s 40us/sample - loss: 0.8518 - accuracy: 0.6651 - val_loss: 1.0318 - val_accuracy: 0.5677\n",
      "Epoch 3/5\n",
      "2568/2568 [==============================] - 0s 41us/sample - loss: 0.7980 - accuracy: 0.6939 - val_loss: 1.0246 - val_accuracy: 0.5956\n",
      "Epoch 4/5\n",
      "2568/2568 [==============================] - 0s 40us/sample - loss: 0.7587 - accuracy: 0.6939 - val_loss: 1.0294 - val_accuracy: 0.5956\n",
      "Epoch 5/5\n",
      "2568/2568 [==============================] - 0s 39us/sample - loss: 0.7432 - accuracy: 0.7076 - val_loss: 1.0719 - val_accuracy: 0.5661\n"
     ]
    },
    {
     "data": {
      "text/plain": [
       "[array([[ 0.06741601,  0.0986798 , -0.10876605, ..., -0.17093259,\n",
       "         -0.20180637, -0.16391198],\n",
       "        [-0.11321911, -0.03299568, -0.00843035, ...,  0.01787489,\n",
       "         -0.08031259,  0.09815881],\n",
       "        [-0.08905667, -0.14832033,  0.13841173, ..., -0.09980188,\n",
       "          0.04465599,  0.1549582 ],\n",
       "        ...,\n",
       "        [ 0.0529953 , -0.13900506, -0.15134601, ...,  0.01721604,\n",
       "         -0.0318675 ,  0.22476268],\n",
       "        [ 0.04599365, -0.06034075,  0.00293593, ..., -0.1239102 ,\n",
       "          0.05726321, -0.10652932],\n",
       "        [-0.01877234, -0.07873057,  0.04842931, ..., -0.19494025,\n",
       "          0.16751519, -0.11740341]], dtype=float32),\n",
       " array([ 0.00969146,  0.00489551,  0.01337628,  0.00279886,  0.01624493,\n",
       "         0.01873527,  0.02939535, -0.00895472, -0.00413715,  0.0173722 ,\n",
       "         0.        ,  0.01324966,  0.00459244, -0.01783877,  0.00391392,\n",
       "         0.00641873, -0.00608421,  0.01460391,  0.00285259,  0.01955558,\n",
       "         0.00552241,  0.        ,  0.05433843, -0.01413904,  0.00255822,\n",
       "         0.0061101 , -0.00575494,  0.        , -0.00645374,  0.00115847,\n",
       "        -0.00261826,  0.02766777,  0.00683943, -0.01902215,  0.00104233,\n",
       "         0.00497401, -0.02368191, -0.02029949,  0.00132038,  0.0069009 ,\n",
       "         0.0030979 ,  0.03075455, -0.01224055,  0.02041413, -0.00801001,\n",
       "         0.01258529,  0.02369095, -0.00156289, -0.0087165 , -0.00670027,\n",
       "         0.00656243,  0.01004929, -0.00091624, -0.00368424,  0.0035547 ,\n",
       "         0.00330114,  0.04251065,  0.00801521,  0.01840828, -0.01042749,\n",
       "        -0.00082814, -0.00069962, -0.0072718 ,  0.01123356, -0.00572525,\n",
       "         0.00278551, -0.00081922,  0.04652691,  0.01201643, -0.01060954,\n",
       "        -0.00811077, -0.01077804,  0.01845472, -0.00992472,  0.00223509,\n",
       "         0.00743593,  0.03333043, -0.00430357,  0.01011384,  0.01892961,\n",
       "        -0.00870465, -0.00732823, -0.00902628,  0.00157223, -0.0079273 ,\n",
       "         0.00943288,  0.04932925,  0.01078078, -0.00173621, -0.00231004,\n",
       "         0.00743883, -0.00529819,  0.0053113 , -0.00499619, -0.00216942,\n",
       "         0.0084656 ,  0.00248017,  0.01989454,  0.01053283,  0.0112095 ,\n",
       "         0.00021922,  0.00636073,  0.00941748,  0.00311916, -0.00276001,\n",
       "        -0.00110356,  0.00248498, -0.00744824,  0.05274981,  0.0072322 ,\n",
       "         0.01605249,  0.01991802, -0.00112994,  0.0305805 ,  0.00323166,\n",
       "         0.01381215,  0.02744616,  0.02904327, -0.00162427,  0.03357806,\n",
       "         0.00609116,  0.00872374,  0.01985244,  0.0043069 ,  0.00461516,\n",
       "        -0.02006473, -0.00014575,  0.00787374], dtype=float32)]"
      ]
     },
     "execution_count": 33,
     "metadata": {},
     "output_type": "execute_result"
    }
   ],
   "source": [
    "weightsMA = MA_to_CA.getFromModelWeights()\n",
    "weightsMA"
   ]
  },
  {
   "cell_type": "code",
   "execution_count": 34,
   "metadata": {},
   "outputs": [
    {
     "name": "stdout",
     "output_type": "stream",
     "text": [
      "Train on 124793 samples, validate on 31199 samples\n",
      "Epoch 1/5\n",
      "124793/124793 [==============================] - 5s 42us/sample - loss: 0.9287 - accuracy: 0.5761 - val_loss: 0.9321 - val_accuracy: 0.5878\n",
      "Epoch 2/5\n",
      "124793/124793 [==============================] - 5s 37us/sample - loss: 0.9181 - accuracy: 0.5829 - val_loss: 0.9401 - val_accuracy: 0.5790\n",
      "Epoch 3/5\n",
      "124793/124793 [==============================] - 5s 37us/sample - loss: 0.9152 - accuracy: 0.5853 - val_loss: 0.9277 - val_accuracy: 0.5825\n",
      "Epoch 4/5\n",
      "124793/124793 [==============================] - 4s 36us/sample - loss: 0.9129 - accuracy: 0.5876 - val_loss: 0.9270 - val_accuracy: 0.5871\n",
      "Epoch 5/5\n",
      "124793/124793 [==============================] - 4s 32us/sample - loss: 0.9122 - accuracy: 0.5875 - val_loss: 0.9294 - val_accuracy: 0.5803\n"
     ]
    }
   ],
   "source": [
    "modelCA_frozenTransfer = MA_to_CA.transfer(weights=weightsMA,trainable=False)"
   ]
  },
  {
   "cell_type": "code",
   "execution_count": 35,
   "metadata": {},
   "outputs": [
    {
     "data": {
      "text/plain": [
       "[array([[ 0.06741601,  0.0986798 , -0.10876605, ..., -0.17093259,\n",
       "         -0.20180637, -0.16391198],\n",
       "        [-0.11321911, -0.03299568, -0.00843035, ...,  0.01787489,\n",
       "         -0.08031259,  0.09815881],\n",
       "        [-0.08905667, -0.14832033,  0.13841173, ..., -0.09980188,\n",
       "          0.04465599,  0.1549582 ],\n",
       "        ...,\n",
       "        [ 0.0529953 , -0.13900506, -0.15134601, ...,  0.01721604,\n",
       "         -0.0318675 ,  0.22476268],\n",
       "        [ 0.04599365, -0.06034075,  0.00293593, ..., -0.1239102 ,\n",
       "          0.05726321, -0.10652932],\n",
       "        [-0.01877234, -0.07873057,  0.04842931, ..., -0.19494025,\n",
       "          0.16751519, -0.11740341]], dtype=float32),\n",
       " array([ 0.00969146,  0.00489551,  0.01337628,  0.00279886,  0.01624493,\n",
       "         0.01873527,  0.02939535, -0.00895472, -0.00413715,  0.0173722 ,\n",
       "         0.        ,  0.01324966,  0.00459244, -0.01783877,  0.00391392,\n",
       "         0.00641873, -0.00608421,  0.01460391,  0.00285259,  0.01955558,\n",
       "         0.00552241,  0.        ,  0.05433843, -0.01413904,  0.00255822,\n",
       "         0.0061101 , -0.00575494,  0.        , -0.00645374,  0.00115847,\n",
       "        -0.00261826,  0.02766777,  0.00683943, -0.01902215,  0.00104233,\n",
       "         0.00497401, -0.02368191, -0.02029949,  0.00132038,  0.0069009 ,\n",
       "         0.0030979 ,  0.03075455, -0.01224055,  0.02041413, -0.00801001,\n",
       "         0.01258529,  0.02369095, -0.00156289, -0.0087165 , -0.00670027,\n",
       "         0.00656243,  0.01004929, -0.00091624, -0.00368424,  0.0035547 ,\n",
       "         0.00330114,  0.04251065,  0.00801521,  0.01840828, -0.01042749,\n",
       "        -0.00082814, -0.00069962, -0.0072718 ,  0.01123356, -0.00572525,\n",
       "         0.00278551, -0.00081922,  0.04652691,  0.01201643, -0.01060954,\n",
       "        -0.00811077, -0.01077804,  0.01845472, -0.00992472,  0.00223509,\n",
       "         0.00743593,  0.03333043, -0.00430357,  0.01011384,  0.01892961,\n",
       "        -0.00870465, -0.00732823, -0.00902628,  0.00157223, -0.0079273 ,\n",
       "         0.00943288,  0.04932925,  0.01078078, -0.00173621, -0.00231004,\n",
       "         0.00743883, -0.00529819,  0.0053113 , -0.00499619, -0.00216942,\n",
       "         0.0084656 ,  0.00248017,  0.01989454,  0.01053283,  0.0112095 ,\n",
       "         0.00021922,  0.00636073,  0.00941748,  0.00311916, -0.00276001,\n",
       "        -0.00110356,  0.00248498, -0.00744824,  0.05274981,  0.0072322 ,\n",
       "         0.01605249,  0.01991802, -0.00112994,  0.0305805 ,  0.00323166,\n",
       "         0.01381215,  0.02744616,  0.02904327, -0.00162427,  0.03357806,\n",
       "         0.00609116,  0.00872374,  0.01985244,  0.0043069 ,  0.00461516,\n",
       "        -0.02006473, -0.00014575,  0.00787374], dtype=float32)]"
      ]
     },
     "execution_count": 35,
     "metadata": {},
     "output_type": "execute_result"
    }
   ],
   "source": [
    "modelCA_frozenTransfer.layers[0].get_weights()"
   ]
  },
  {
   "cell_type": "code",
   "execution_count": null,
   "metadata": {},
   "outputs": [],
   "source": []
  },
  {
   "cell_type": "code",
   "execution_count": null,
   "metadata": {},
   "outputs": [],
   "source": []
  }
 ],
 "metadata": {
  "kernelspec": {
   "display_name": "Python 3",
   "language": "python",
   "name": "python3"
  },
  "language_info": {
   "codemirror_mode": {
    "name": "ipython",
    "version": 3
   },
   "file_extension": ".py",
   "mimetype": "text/x-python",
   "name": "python",
   "nbconvert_exporter": "python",
   "pygments_lexer": "ipython3",
   "version": "3.6.8"
  }
 },
 "nbformat": 4,
 "nbformat_minor": 2
}
